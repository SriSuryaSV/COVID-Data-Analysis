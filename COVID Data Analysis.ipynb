{
 "cells": [
  {
   "cell_type": "markdown",
   "id": "071e639e-ae22-4b03-b6c9-118da10865b3",
   "metadata": {},
   "source": [
    "# COVID Data Analysis"
   ]
  },
  {
   "cell_type": "markdown",
   "id": "65df59f4-9bc0-467c-9205-7787b9f321e6",
   "metadata": {},
   "source": [
    "By\n",
    "Surya Vaddhiparthy\n",
    "Humpi Chowdary Goli\n",
    "Corey Moon"
   ]
  },
  {
   "cell_type": "markdown",
   "id": "467cc426-8980-4ccf-902c-c39aa1a91a4e",
   "metadata": {},
   "source": [
    "Under guidance of Professor Dr. Hyun Bin Kang"
   ]
  },
  {
   "cell_type": "markdown",
   "id": "fad4f089-f5e6-4e1e-90ee-60abcedc1c65",
   "metadata": {},
   "source": [
    "## Libraries and Dependancies"
   ]
  },
  {
   "cell_type": "code",
   "execution_count": 113,
   "id": "75d181ec-88c3-4e75-8204-b02cd6ea2632",
   "metadata": {},
   "outputs": [],
   "source": [
    "import pandas as pd\n",
    "import numpy as np\n",
    "import os"
   ]
  },
  {
   "cell_type": "code",
   "execution_count": 4,
   "id": "7ff82582-0791-4528-a12c-c164fa7cc388",
   "metadata": {},
   "outputs": [
    {
     "data": {
      "text/plain": [
       "'C:\\\\Users\\\\Surya'"
      ]
     },
     "execution_count": 4,
     "metadata": {},
     "output_type": "execute_result"
    }
   ],
   "source": [
    "os.getcwd()"
   ]
  },
  {
   "cell_type": "markdown",
   "id": "ea4f59ff-d78d-410b-904c-df5f67c888b5",
   "metadata": {},
   "source": [
    "## Loading Data"
   ]
  },
  {
   "cell_type": "markdown",
   "id": "7850adc6-22ee-4939-b033-0cc7bdce8ceb",
   "metadata": {},
   "source": [
    "#### COVID-19 Vaccinations in the United States,Jurisdiction by Centers for Disease Control and Prevention\n",
    "Source: https://data.cdc.gov/Vaccinations/COVID-19-Vaccinations-in-the-United-States-Jurisdi/unsk-b7fc"
   ]
  },
  {
   "cell_type": "code",
   "execution_count": 5,
   "id": "bb1aa59e-d3e3-4719-a432-dd8333dfb7d2",
   "metadata": {
    "tags": []
   },
   "outputs": [],
   "source": [
    "df_vaccine= pd.read_csv(\"Vaccine.csv\")"
   ]
  },
  {
   "cell_type": "code",
   "execution_count": 136,
   "id": "9e76a356-e4b9-414a-9a27-951c242f989a",
   "metadata": {},
   "outputs": [
    {
     "data": {
      "text/plain": [
       "(27416, 82)"
      ]
     },
     "execution_count": 136,
     "metadata": {},
     "output_type": "execute_result"
    }
   ],
   "source": [
    "df_vaccine.shape"
   ]
  },
  {
   "cell_type": "code",
   "execution_count": 6,
   "id": "9725293d-401f-4af5-a795-c5c6bfc92a91",
   "metadata": {
    "tags": []
   },
   "outputs": [
    {
     "data": {
      "text/plain": [
       "Index(['Date', 'MMWR_week', 'Location', 'Distributed', 'Distributed_Janssen',\n",
       "       'Distributed_Moderna', 'Distributed_Pfizer', 'Distributed_Unk_Manuf',\n",
       "       'Dist_Per_100K', 'Distributed_Per_100k_12Plus',\n",
       "       'Distributed_Per_100k_18Plus', 'Distributed_Per_100k_65Plus',\n",
       "       'Administered', 'Administered_12Plus', 'Administered_18Plus',\n",
       "       'Administered_65Plus', 'Administered_Janssen', 'Administered_Moderna',\n",
       "       'Administered_Pfizer', 'Administered_Unk_Manuf', 'Admin_Per_100K',\n",
       "       'Admin_Per_100k_12Plus', 'Admin_Per_100k_18Plus',\n",
       "       'Admin_Per_100k_65Plus', 'Recip_Administered',\n",
       "       'Administered_Dose1_Recip', 'Administered_Dose1_Pop_Pct',\n",
       "       'Administered_Dose1_Recip_12Plus',\n",
       "       'Administered_Dose1_Recip_12PlusPop_Pct',\n",
       "       'Administered_Dose1_Recip_18Plus',\n",
       "       'Administered_Dose1_Recip_18PlusPop_Pct',\n",
       "       'Administered_Dose1_Recip_65Plus',\n",
       "       'Administered_Dose1_Recip_65PlusPop_Pct', 'Series_Complete_Yes',\n",
       "       'Series_Complete_Pop_Pct', 'Series_Complete_12Plus',\n",
       "       'Series_Complete_12PlusPop_Pct', 'Series_Complete_18Plus',\n",
       "       'Series_Complete_18PlusPop_Pct', 'Series_Complete_65Plus',\n",
       "       'Series_Complete_65PlusPop_Pct', 'Series_Complete_Janssen',\n",
       "       'Series_Complete_Moderna', 'Series_Complete_Pfizer',\n",
       "       'Series_Complete_Unk_Manuf', 'Series_Complete_Janssen_12Plus',\n",
       "       'Series_Complete_Moderna_12Plus', 'Series_Complete_Pfizer_12Plus',\n",
       "       'Series_Complete_Unk_Manuf_12Plus', 'Series_Complete_Janssen_18Plus',\n",
       "       'Series_Complete_Moderna_18Plus', 'Series_Complete_Pfizer_18Plus',\n",
       "       'Series_Complete_Unk_Manuf_18Plus', 'Series_Complete_Janssen_65Plus',\n",
       "       'Series_Complete_Moderna_65Plus', 'Series_Complete_Pfizer_65Plus',\n",
       "       'Series_Complete_Unk_Manuf_65Plus', 'Additional_Doses',\n",
       "       'Additional_Doses_Vax_Pct', 'Additional_Doses_12Plus',\n",
       "       'Additional_Doses_12Plus_Vax_Pct', 'Additional_Doses_18Plus',\n",
       "       'Additional_Doses_18Plus_Vax_Pct', 'Additional_Doses_50Plus',\n",
       "       'Additional_Doses_50Plus_Vax_Pct', 'Additional_Doses_65Plus',\n",
       "       'Additional_Doses_65Plus_Vax_Pct', 'Additional_Doses_Moderna',\n",
       "       'Additional_Doses_Pfizer', 'Additional_Doses_Janssen',\n",
       "       'Additional_Doses_Unk_Manuf', 'Administered_Dose1_Recip_5Plus',\n",
       "       'Administered_Dose1_Recip_5PlusPop_Pct', 'Series_Complete_5Plus',\n",
       "       'Series_Complete_5PlusPop_Pct', 'Administered_5Plus',\n",
       "       'Admin_Per_100k_5Plus', 'Distributed_Per_100k_5Plus',\n",
       "       'Series_Complete_Moderna_5Plus', 'Series_Complete_Pfizer_5Plus',\n",
       "       'Series_Complete_Janssen_5Plus', 'Series_Complete_Unk_Manuf_5Plus'],\n",
       "      dtype='object')"
      ]
     },
     "execution_count": 6,
     "metadata": {},
     "output_type": "execute_result"
    }
   ],
   "source": [
    "# Checking the art\n",
    "df_vaccine.columns"
   ]
  },
  {
   "cell_type": "code",
   "execution_count": 7,
   "id": "772af0a3-844e-4663-8a3d-11059bd62253",
   "metadata": {},
   "outputs": [
    {
     "data": {
      "text/plain": [
       "Date                                object\n",
       "MMWR_week                            int64\n",
       "Location                            object\n",
       "Distributed                          int64\n",
       "Distributed_Janssen                  int64\n",
       "                                    ...   \n",
       "Distributed_Per_100k_5Plus         float64\n",
       "Series_Complete_Moderna_5Plus      float64\n",
       "Series_Complete_Pfizer_5Plus       float64\n",
       "Series_Complete_Janssen_5Plus      float64\n",
       "Series_Complete_Unk_Manuf_5Plus    float64\n",
       "Length: 82, dtype: object"
      ]
     },
     "execution_count": 7,
     "metadata": {},
     "output_type": "execute_result"
    }
   ],
   "source": [
    "df_vaccine.dtypes"
   ]
  },
  {
   "cell_type": "code",
   "execution_count": 8,
   "id": "dbcd10dd-0eef-4e39-a5c7-219736767228",
   "metadata": {},
   "outputs": [
    {
     "data": {
      "text/plain": [
       "array(['DE', 'KS', 'ID', 'US', 'WI', 'NJ', 'MI', 'SC', 'MN', 'OR', 'OK',\n",
       "       'CA', 'NC', 'AR', 'NH', 'NM', 'VI', 'SD', 'DD2', 'IH2', 'PA', 'NE',\n",
       "       'WV', 'VA2', 'PR', 'PW', 'ME', 'MD', 'TN', 'VT', 'AZ', 'VA', 'CO',\n",
       "       'RI', 'WY', 'DC', 'MA', 'IL', 'AL', 'MT', 'HI', 'NV', 'MO', 'GA',\n",
       "       'GU', 'UT', 'LA', 'FL', 'MH', 'MP', 'FM', 'IA', 'WA', 'ND', 'NY',\n",
       "       'AK', 'AS', 'OH', 'TX', 'MS', 'KY', 'IN', 'CT', 'BP2', 'RP', 'LTC'],\n",
       "      dtype=object)"
      ]
     },
     "execution_count": 8,
     "metadata": {},
     "output_type": "execute_result"
    }
   ],
   "source": [
    "df_vaccine[\"Location\"].unique()\n"
   ]
  },
  {
   "cell_type": "code",
   "execution_count": 9,
   "id": "303ce142-184c-45ab-a285-318756e6ff1a",
   "metadata": {},
   "outputs": [
    {
     "data": {
      "text/plain": [
       "66"
      ]
     },
     "execution_count": 9,
     "metadata": {},
     "output_type": "execute_result"
    }
   ],
   "source": [
    "len(df_vaccine[\"Location\"].unique())"
   ]
  },
  {
   "cell_type": "code",
   "execution_count": 10,
   "id": "f3b647a5-1792-439f-be89-b63e5b452440",
   "metadata": {},
   "outputs": [],
   "source": [
    "df_vaccine[\"Date\"] =  pd.to_datetime(df_vaccine[\"Date\"], format='%m/%d/%Y')"
   ]
  },
  {
   "cell_type": "code",
   "execution_count": 11,
   "id": "6f155f84-0815-4593-9495-6b608dc60d48",
   "metadata": {},
   "outputs": [
    {
     "name": "stderr",
     "output_type": "stream",
     "text": [
      "C:\\Users\\Surya\\AppData\\Local\\Temp/ipykernel_16120/3841884626.py:1: FutureWarning: Series.dt.weekofyear and Series.dt.week have been deprecated.  Please use Series.dt.isocalendar().week instead.\n",
      "  df_vaccine[\"week\"]=df_vaccine[\"Date\"].dt.week\n"
     ]
    }
   ],
   "source": [
    "df_vaccine[\"week\"]=df_vaccine[\"Date\"].dt.week"
   ]
  },
  {
   "cell_type": "code",
   "execution_count": 12,
   "id": "19fa6af1-e6be-4c1b-92d1-996a38befdac",
   "metadata": {},
   "outputs": [],
   "source": [
    "df_vaccine[\"week\"] = df_vaccine[\"week\"].astype(str).str.pad(2, side='left', fillchar='0')"
   ]
  },
  {
   "cell_type": "markdown",
   "id": "769ac8e4-a344-41c0-95ec-cbd62a538941",
   "metadata": {},
   "source": [
    "## Unique row identifier generation"
   ]
  },
  {
   "cell_type": "code",
   "execution_count": 13,
   "id": "4272eb86-9b97-484c-8cce-cc8d34f41c90",
   "metadata": {},
   "outputs": [],
   "source": [
    "df_vaccine[\"uid\"]=df_vaccine['Location']+df_vaccine['Date'].astype(str).str[:4]+df_vaccine[\"week\"].astype(str)"
   ]
  },
  {
   "cell_type": "code",
   "execution_count": 14,
   "id": "b06b5463-a107-4615-89f7-4e72aef658a3",
   "metadata": {},
   "outputs": [
    {
     "data": {
      "text/plain": [
       "0         DE202206\n",
       "1         KS202206\n",
       "2         ID202206\n",
       "3         US202206\n",
       "4         WI202206\n",
       "           ...    \n",
       "27411     AS202050\n",
       "27412    LTC202050\n",
       "27413     VI202050\n",
       "27414     US202050\n",
       "27415     GU202050\n",
       "Name: uid, Length: 27416, dtype: object"
      ]
     },
     "execution_count": 14,
     "metadata": {},
     "output_type": "execute_result"
    }
   ],
   "source": [
    "df_vaccine[\"uid\"]"
   ]
  },
  {
   "cell_type": "code",
   "execution_count": 71,
   "id": "d7e1da01-07ea-4c62-b317-8e53f640c3be",
   "metadata": {},
   "outputs": [
    {
     "data": {
      "text/plain": [
       "4081"
      ]
     },
     "execution_count": 71,
     "metadata": {},
     "output_type": "execute_result"
    }
   ],
   "source": [
    "len(df_vaccine[\"uid\"].unique())"
   ]
  },
  {
   "cell_type": "code",
   "execution_count": 76,
   "id": "05e9701f-962e-4e8d-9705-e8aa1bd75824",
   "metadata": {},
   "outputs": [
    {
     "data": {
      "text/plain": [
       "CO202128     7\n",
       "MI202120     7\n",
       "WV202120     7\n",
       "SC202120     7\n",
       "AR202120     7\n",
       "            ..\n",
       "AS202050     1\n",
       "LTC202050    1\n",
       "VI202050     1\n",
       "US202050     1\n",
       "GU202050     1\n",
       "Name: uid, Length: 4081, dtype: int64"
      ]
     },
     "execution_count": 76,
     "metadata": {},
     "output_type": "execute_result"
    }
   ],
   "source": [
    "df_vaccine[\"uid\"].value_counts()"
   ]
  },
  {
   "cell_type": "code",
   "execution_count": 79,
   "id": "1d23acc6-8a2f-4edf-a68c-06a74a851512",
   "metadata": {
    "tags": []
   },
   "outputs": [
    {
     "data": {
      "text/html": [
       "<div>\n",
       "<style scoped>\n",
       "    .dataframe tbody tr th:only-of-type {\n",
       "        vertical-align: middle;\n",
       "    }\n",
       "\n",
       "    .dataframe tbody tr th {\n",
       "        vertical-align: top;\n",
       "    }\n",
       "\n",
       "    .dataframe thead th {\n",
       "        text-align: right;\n",
       "    }\n",
       "</style>\n",
       "<table border=\"1\" class=\"dataframe\">\n",
       "  <thead>\n",
       "    <tr style=\"text-align: right;\">\n",
       "      <th></th>\n",
       "      <th>Date</th>\n",
       "      <th>MMWR_week</th>\n",
       "      <th>Location</th>\n",
       "      <th>Distributed</th>\n",
       "      <th>Distributed_Janssen</th>\n",
       "      <th>Distributed_Moderna</th>\n",
       "      <th>Distributed_Pfizer</th>\n",
       "      <th>Distributed_Unk_Manuf</th>\n",
       "      <th>Dist_Per_100K</th>\n",
       "      <th>Distributed_Per_100k_12Plus</th>\n",
       "      <th>...</th>\n",
       "      <th>Series_Complete_5PlusPop_Pct</th>\n",
       "      <th>Administered_5Plus</th>\n",
       "      <th>Admin_Per_100k_5Plus</th>\n",
       "      <th>Distributed_Per_100k_5Plus</th>\n",
       "      <th>Series_Complete_Moderna_5Plus</th>\n",
       "      <th>Series_Complete_Pfizer_5Plus</th>\n",
       "      <th>Series_Complete_Janssen_5Plus</th>\n",
       "      <th>Series_Complete_Unk_Manuf_5Plus</th>\n",
       "      <th>week</th>\n",
       "      <th>uid</th>\n",
       "    </tr>\n",
       "  </thead>\n",
       "  <tbody>\n",
       "    <tr>\n",
       "      <th>13384</th>\n",
       "      <td>2021-07-18</td>\n",
       "      <td>29</td>\n",
       "      <td>CO</td>\n",
       "      <td>7139535</td>\n",
       "      <td>340300</td>\n",
       "      <td>2932760</td>\n",
       "      <td>3866475</td>\n",
       "      <td>0</td>\n",
       "      <td>123977</td>\n",
       "      <td>144640</td>\n",
       "      <td>...</td>\n",
       "      <td>0.0</td>\n",
       "      <td>0.0</td>\n",
       "      <td>0.0</td>\n",
       "      <td>0.0</td>\n",
       "      <td>NaN</td>\n",
       "      <td>NaN</td>\n",
       "      <td>NaN</td>\n",
       "      <td>NaN</td>\n",
       "      <td>28</td>\n",
       "      <td>CO202128</td>\n",
       "    </tr>\n",
       "    <tr>\n",
       "      <th>13415</th>\n",
       "      <td>2021-07-17</td>\n",
       "      <td>28</td>\n",
       "      <td>CO</td>\n",
       "      <td>7139535</td>\n",
       "      <td>340300</td>\n",
       "      <td>2932760</td>\n",
       "      <td>3866475</td>\n",
       "      <td>0</td>\n",
       "      <td>123977</td>\n",
       "      <td>144640</td>\n",
       "      <td>...</td>\n",
       "      <td>0.0</td>\n",
       "      <td>0.0</td>\n",
       "      <td>0.0</td>\n",
       "      <td>0.0</td>\n",
       "      <td>NaN</td>\n",
       "      <td>NaN</td>\n",
       "      <td>NaN</td>\n",
       "      <td>NaN</td>\n",
       "      <td>28</td>\n",
       "      <td>CO202128</td>\n",
       "    </tr>\n",
       "    <tr>\n",
       "      <th>13527</th>\n",
       "      <td>2021-07-16</td>\n",
       "      <td>28</td>\n",
       "      <td>CO</td>\n",
       "      <td>7126285</td>\n",
       "      <td>340300</td>\n",
       "      <td>2928960</td>\n",
       "      <td>3857025</td>\n",
       "      <td>0</td>\n",
       "      <td>123747</td>\n",
       "      <td>144372</td>\n",
       "      <td>...</td>\n",
       "      <td>0.0</td>\n",
       "      <td>0.0</td>\n",
       "      <td>0.0</td>\n",
       "      <td>0.0</td>\n",
       "      <td>NaN</td>\n",
       "      <td>NaN</td>\n",
       "      <td>NaN</td>\n",
       "      <td>NaN</td>\n",
       "      <td>28</td>\n",
       "      <td>CO202128</td>\n",
       "    </tr>\n",
       "    <tr>\n",
       "      <th>13554</th>\n",
       "      <td>2021-07-15</td>\n",
       "      <td>28</td>\n",
       "      <td>CO</td>\n",
       "      <td>7113825</td>\n",
       "      <td>340300</td>\n",
       "      <td>2921900</td>\n",
       "      <td>3851625</td>\n",
       "      <td>0</td>\n",
       "      <td>123531</td>\n",
       "      <td>144119</td>\n",
       "      <td>...</td>\n",
       "      <td>0.0</td>\n",
       "      <td>0.0</td>\n",
       "      <td>0.0</td>\n",
       "      <td>0.0</td>\n",
       "      <td>NaN</td>\n",
       "      <td>NaN</td>\n",
       "      <td>NaN</td>\n",
       "      <td>NaN</td>\n",
       "      <td>28</td>\n",
       "      <td>CO202128</td>\n",
       "    </tr>\n",
       "    <tr>\n",
       "      <th>13606</th>\n",
       "      <td>2021-07-14</td>\n",
       "      <td>28</td>\n",
       "      <td>CO</td>\n",
       "      <td>7110155</td>\n",
       "      <td>340300</td>\n",
       "      <td>2918680</td>\n",
       "      <td>3851175</td>\n",
       "      <td>0</td>\n",
       "      <td>123467</td>\n",
       "      <td>144045</td>\n",
       "      <td>...</td>\n",
       "      <td>0.0</td>\n",
       "      <td>0.0</td>\n",
       "      <td>0.0</td>\n",
       "      <td>0.0</td>\n",
       "      <td>NaN</td>\n",
       "      <td>NaN</td>\n",
       "      <td>NaN</td>\n",
       "      <td>NaN</td>\n",
       "      <td>28</td>\n",
       "      <td>CO202128</td>\n",
       "    </tr>\n",
       "    <tr>\n",
       "      <th>13727</th>\n",
       "      <td>2021-07-13</td>\n",
       "      <td>28</td>\n",
       "      <td>CO</td>\n",
       "      <td>7107335</td>\n",
       "      <td>340300</td>\n",
       "      <td>2916760</td>\n",
       "      <td>3850275</td>\n",
       "      <td>0</td>\n",
       "      <td>123418</td>\n",
       "      <td>143988</td>\n",
       "      <td>...</td>\n",
       "      <td>0.0</td>\n",
       "      <td>0.0</td>\n",
       "      <td>0.0</td>\n",
       "      <td>0.0</td>\n",
       "      <td>NaN</td>\n",
       "      <td>NaN</td>\n",
       "      <td>NaN</td>\n",
       "      <td>NaN</td>\n",
       "      <td>28</td>\n",
       "      <td>CO202128</td>\n",
       "    </tr>\n",
       "    <tr>\n",
       "      <th>13768</th>\n",
       "      <td>2021-07-12</td>\n",
       "      <td>28</td>\n",
       "      <td>CO</td>\n",
       "      <td>7101515</td>\n",
       "      <td>340300</td>\n",
       "      <td>2916340</td>\n",
       "      <td>3844875</td>\n",
       "      <td>0</td>\n",
       "      <td>123317</td>\n",
       "      <td>143870</td>\n",
       "      <td>...</td>\n",
       "      <td>0.0</td>\n",
       "      <td>0.0</td>\n",
       "      <td>0.0</td>\n",
       "      <td>0.0</td>\n",
       "      <td>NaN</td>\n",
       "      <td>NaN</td>\n",
       "      <td>NaN</td>\n",
       "      <td>NaN</td>\n",
       "      <td>28</td>\n",
       "      <td>CO202128</td>\n",
       "    </tr>\n",
       "  </tbody>\n",
       "</table>\n",
       "<p>7 rows × 84 columns</p>\n",
       "</div>"
      ],
      "text/plain": [
       "            Date  MMWR_week Location  Distributed  Distributed_Janssen  \\\n",
       "13384 2021-07-18         29       CO      7139535               340300   \n",
       "13415 2021-07-17         28       CO      7139535               340300   \n",
       "13527 2021-07-16         28       CO      7126285               340300   \n",
       "13554 2021-07-15         28       CO      7113825               340300   \n",
       "13606 2021-07-14         28       CO      7110155               340300   \n",
       "13727 2021-07-13         28       CO      7107335               340300   \n",
       "13768 2021-07-12         28       CO      7101515               340300   \n",
       "\n",
       "       Distributed_Moderna  Distributed_Pfizer  Distributed_Unk_Manuf  \\\n",
       "13384              2932760             3866475                      0   \n",
       "13415              2932760             3866475                      0   \n",
       "13527              2928960             3857025                      0   \n",
       "13554              2921900             3851625                      0   \n",
       "13606              2918680             3851175                      0   \n",
       "13727              2916760             3850275                      0   \n",
       "13768              2916340             3844875                      0   \n",
       "\n",
       "       Dist_Per_100K  Distributed_Per_100k_12Plus  ...  \\\n",
       "13384         123977                       144640  ...   \n",
       "13415         123977                       144640  ...   \n",
       "13527         123747                       144372  ...   \n",
       "13554         123531                       144119  ...   \n",
       "13606         123467                       144045  ...   \n",
       "13727         123418                       143988  ...   \n",
       "13768         123317                       143870  ...   \n",
       "\n",
       "       Series_Complete_5PlusPop_Pct  Administered_5Plus  Admin_Per_100k_5Plus  \\\n",
       "13384                           0.0                 0.0                   0.0   \n",
       "13415                           0.0                 0.0                   0.0   \n",
       "13527                           0.0                 0.0                   0.0   \n",
       "13554                           0.0                 0.0                   0.0   \n",
       "13606                           0.0                 0.0                   0.0   \n",
       "13727                           0.0                 0.0                   0.0   \n",
       "13768                           0.0                 0.0                   0.0   \n",
       "\n",
       "       Distributed_Per_100k_5Plus  Series_Complete_Moderna_5Plus  \\\n",
       "13384                         0.0                            NaN   \n",
       "13415                         0.0                            NaN   \n",
       "13527                         0.0                            NaN   \n",
       "13554                         0.0                            NaN   \n",
       "13606                         0.0                            NaN   \n",
       "13727                         0.0                            NaN   \n",
       "13768                         0.0                            NaN   \n",
       "\n",
       "       Series_Complete_Pfizer_5Plus  Series_Complete_Janssen_5Plus  \\\n",
       "13384                           NaN                            NaN   \n",
       "13415                           NaN                            NaN   \n",
       "13527                           NaN                            NaN   \n",
       "13554                           NaN                            NaN   \n",
       "13606                           NaN                            NaN   \n",
       "13727                           NaN                            NaN   \n",
       "13768                           NaN                            NaN   \n",
       "\n",
       "       Series_Complete_Unk_Manuf_5Plus  week       uid  \n",
       "13384                              NaN    28  CO202128  \n",
       "13415                              NaN    28  CO202128  \n",
       "13527                              NaN    28  CO202128  \n",
       "13554                              NaN    28  CO202128  \n",
       "13606                              NaN    28  CO202128  \n",
       "13727                              NaN    28  CO202128  \n",
       "13768                              NaN    28  CO202128  \n",
       "\n",
       "[7 rows x 84 columns]"
      ]
     },
     "execution_count": 79,
     "metadata": {},
     "output_type": "execute_result"
    }
   ],
   "source": [
    "df_vaccine[df_vaccine[\"uid\"]=='CO202128']"
   ]
  },
  {
   "cell_type": "code",
   "execution_count": 80,
   "id": "ca52680b-8022-4b20-af27-ae7299c6f5cf",
   "metadata": {},
   "outputs": [],
   "source": [
    "df_vaccine=df_vaccine.sort_values('Date', ascending=False).drop_duplicates('uid').sort_index()"
   ]
  },
  {
   "cell_type": "code",
   "execution_count": 81,
   "id": "f7262dbc-3c4e-4d2f-b3ac-e8813deb9bb6",
   "metadata": {},
   "outputs": [
    {
     "data": {
      "text/plain": [
       "(4081, 84)"
      ]
     },
     "execution_count": 81,
     "metadata": {},
     "output_type": "execute_result"
    }
   ],
   "source": [
    "df_vaccine.shape"
   ]
  },
  {
   "cell_type": "code",
   "execution_count": 123,
   "id": "43327860-6027-41aa-a455-ed1a1455fa6d",
   "metadata": {},
   "outputs": [],
   "source": [
    "#df_vaccine=df_vaccine.set_index('uid')"
   ]
  },
  {
   "cell_type": "code",
   "execution_count": 82,
   "id": "80846b8f-1118-45bc-adcd-21e54a7a85c7",
   "metadata": {},
   "outputs": [
    {
     "data": {
      "text/html": [
       "<div>\n",
       "<style scoped>\n",
       "    .dataframe tbody tr th:only-of-type {\n",
       "        vertical-align: middle;\n",
       "    }\n",
       "\n",
       "    .dataframe tbody tr th {\n",
       "        vertical-align: top;\n",
       "    }\n",
       "\n",
       "    .dataframe thead th {\n",
       "        text-align: right;\n",
       "    }\n",
       "</style>\n",
       "<table border=\"1\" class=\"dataframe\">\n",
       "  <thead>\n",
       "    <tr style=\"text-align: right;\">\n",
       "      <th></th>\n",
       "      <th>Date</th>\n",
       "      <th>MMWR_week</th>\n",
       "      <th>Location</th>\n",
       "      <th>Distributed</th>\n",
       "      <th>Distributed_Janssen</th>\n",
       "      <th>Distributed_Moderna</th>\n",
       "      <th>Distributed_Pfizer</th>\n",
       "      <th>Distributed_Unk_Manuf</th>\n",
       "      <th>Dist_Per_100K</th>\n",
       "      <th>Distributed_Per_100k_12Plus</th>\n",
       "      <th>...</th>\n",
       "      <th>Series_Complete_5PlusPop_Pct</th>\n",
       "      <th>Administered_5Plus</th>\n",
       "      <th>Admin_Per_100k_5Plus</th>\n",
       "      <th>Distributed_Per_100k_5Plus</th>\n",
       "      <th>Series_Complete_Moderna_5Plus</th>\n",
       "      <th>Series_Complete_Pfizer_5Plus</th>\n",
       "      <th>Series_Complete_Janssen_5Plus</th>\n",
       "      <th>Series_Complete_Unk_Manuf_5Plus</th>\n",
       "      <th>week</th>\n",
       "      <th>uid</th>\n",
       "    </tr>\n",
       "  </thead>\n",
       "  <tbody>\n",
       "    <tr>\n",
       "      <th>0</th>\n",
       "      <td>2022-02-10</td>\n",
       "      <td>6</td>\n",
       "      <td>DE</td>\n",
       "      <td>2160535</td>\n",
       "      <td>96000</td>\n",
       "      <td>825380</td>\n",
       "      <td>1239155</td>\n",
       "      <td>0</td>\n",
       "      <td>221875</td>\n",
       "      <td>257266</td>\n",
       "      <td>...</td>\n",
       "      <td>70.8</td>\n",
       "      <td>1705305.0</td>\n",
       "      <td>185552.0</td>\n",
       "      <td>235085.0</td>\n",
       "      <td>229599.0</td>\n",
       "      <td>363976.0</td>\n",
       "      <td>56309.0</td>\n",
       "      <td>650.0</td>\n",
       "      <td>06</td>\n",
       "      <td>DE202206</td>\n",
       "    </tr>\n",
       "    <tr>\n",
       "      <th>1</th>\n",
       "      <td>2022-02-10</td>\n",
       "      <td>6</td>\n",
       "      <td>KS</td>\n",
       "      <td>5629435</td>\n",
       "      <td>253800</td>\n",
       "      <td>2126560</td>\n",
       "      <td>3249075</td>\n",
       "      <td>0</td>\n",
       "      <td>193231</td>\n",
       "      <td>229614</td>\n",
       "      <td>...</td>\n",
       "      <td>63.6</td>\n",
       "      <td>4362307.0</td>\n",
       "      <td>159910.0</td>\n",
       "      <td>206359.0</td>\n",
       "      <td>620046.0</td>\n",
       "      <td>988778.0</td>\n",
       "      <td>124426.0</td>\n",
       "      <td>687.0</td>\n",
       "      <td>06</td>\n",
       "      <td>KS202206</td>\n",
       "    </tr>\n",
       "    <tr>\n",
       "      <th>2</th>\n",
       "      <td>2022-02-10</td>\n",
       "      <td>6</td>\n",
       "      <td>ID</td>\n",
       "      <td>3156470</td>\n",
       "      <td>155300</td>\n",
       "      <td>1214860</td>\n",
       "      <td>1786310</td>\n",
       "      <td>0</td>\n",
       "      <td>176629</td>\n",
       "      <td>211078</td>\n",
       "      <td>...</td>\n",
       "      <td>56.2</td>\n",
       "      <td>2334835.0</td>\n",
       "      <td>139738.0</td>\n",
       "      <td>188912.0</td>\n",
       "      <td>324576.0</td>\n",
       "      <td>534320.0</td>\n",
       "      <td>79425.0</td>\n",
       "      <td>753.0</td>\n",
       "      <td>06</td>\n",
       "      <td>ID202206</td>\n",
       "    </tr>\n",
       "    <tr>\n",
       "      <th>3</th>\n",
       "      <td>2022-02-10</td>\n",
       "      <td>6</td>\n",
       "      <td>US</td>\n",
       "      <td>674675725</td>\n",
       "      <td>30209400</td>\n",
       "      <td>246235940</td>\n",
       "      <td>398230385</td>\n",
       "      <td>0</td>\n",
       "      <td>203210</td>\n",
       "      <td>237964</td>\n",
       "      <td>...</td>\n",
       "      <td>68.3</td>\n",
       "      <td>545402676.0</td>\n",
       "      <td>174660.0</td>\n",
       "      <td>216059.0</td>\n",
       "      <td>74889969.0</td>\n",
       "      <td>121733824.0</td>\n",
       "      <td>16653790.0</td>\n",
       "      <td>138521.0</td>\n",
       "      <td>06</td>\n",
       "      <td>US202206</td>\n",
       "    </tr>\n",
       "    <tr>\n",
       "      <th>4</th>\n",
       "      <td>2022-02-10</td>\n",
       "      <td>6</td>\n",
       "      <td>WI</td>\n",
       "      <td>10856185</td>\n",
       "      <td>450400</td>\n",
       "      <td>4002040</td>\n",
       "      <td>6403745</td>\n",
       "      <td>0</td>\n",
       "      <td>186454</td>\n",
       "      <td>217133</td>\n",
       "      <td>...</td>\n",
       "      <td>67.9</td>\n",
       "      <td>9755611.0</td>\n",
       "      <td>177635.0</td>\n",
       "      <td>197675.0</td>\n",
       "      <td>1316149.0</td>\n",
       "      <td>2113668.0</td>\n",
       "      <td>297539.0</td>\n",
       "      <td>725.0</td>\n",
       "      <td>06</td>\n",
       "      <td>WI202206</td>\n",
       "    </tr>\n",
       "  </tbody>\n",
       "</table>\n",
       "<p>5 rows × 84 columns</p>\n",
       "</div>"
      ],
      "text/plain": [
       "        Date  MMWR_week Location  Distributed  Distributed_Janssen  \\\n",
       "0 2022-02-10          6       DE      2160535                96000   \n",
       "1 2022-02-10          6       KS      5629435               253800   \n",
       "2 2022-02-10          6       ID      3156470               155300   \n",
       "3 2022-02-10          6       US    674675725             30209400   \n",
       "4 2022-02-10          6       WI     10856185               450400   \n",
       "\n",
       "   Distributed_Moderna  Distributed_Pfizer  Distributed_Unk_Manuf  \\\n",
       "0               825380             1239155                      0   \n",
       "1              2126560             3249075                      0   \n",
       "2              1214860             1786310                      0   \n",
       "3            246235940           398230385                      0   \n",
       "4              4002040             6403745                      0   \n",
       "\n",
       "   Dist_Per_100K  Distributed_Per_100k_12Plus  ...  \\\n",
       "0         221875                       257266  ...   \n",
       "1         193231                       229614  ...   \n",
       "2         176629                       211078  ...   \n",
       "3         203210                       237964  ...   \n",
       "4         186454                       217133  ...   \n",
       "\n",
       "   Series_Complete_5PlusPop_Pct  Administered_5Plus  Admin_Per_100k_5Plus  \\\n",
       "0                          70.8           1705305.0              185552.0   \n",
       "1                          63.6           4362307.0              159910.0   \n",
       "2                          56.2           2334835.0              139738.0   \n",
       "3                          68.3         545402676.0              174660.0   \n",
       "4                          67.9           9755611.0              177635.0   \n",
       "\n",
       "   Distributed_Per_100k_5Plus  Series_Complete_Moderna_5Plus  \\\n",
       "0                    235085.0                       229599.0   \n",
       "1                    206359.0                       620046.0   \n",
       "2                    188912.0                       324576.0   \n",
       "3                    216059.0                     74889969.0   \n",
       "4                    197675.0                      1316149.0   \n",
       "\n",
       "   Series_Complete_Pfizer_5Plus  Series_Complete_Janssen_5Plus  \\\n",
       "0                      363976.0                        56309.0   \n",
       "1                      988778.0                       124426.0   \n",
       "2                      534320.0                        79425.0   \n",
       "3                   121733824.0                     16653790.0   \n",
       "4                     2113668.0                       297539.0   \n",
       "\n",
       "   Series_Complete_Unk_Manuf_5Plus  week       uid  \n",
       "0                            650.0    06  DE202206  \n",
       "1                            687.0    06  KS202206  \n",
       "2                            753.0    06  ID202206  \n",
       "3                         138521.0    06  US202206  \n",
       "4                            725.0    06  WI202206  \n",
       "\n",
       "[5 rows x 84 columns]"
      ]
     },
     "execution_count": 82,
     "metadata": {},
     "output_type": "execute_result"
    }
   ],
   "source": [
    "df_vaccine.head()"
   ]
  },
  {
   "cell_type": "code",
   "execution_count": 83,
   "id": "c7cbfb9a-39c7-4f46-8e67-0a5c4331c094",
   "metadata": {},
   "outputs": [
    {
     "data": {
      "text/plain": [
       "True"
      ]
     },
     "execution_count": 83,
     "metadata": {},
     "output_type": "execute_result"
    }
   ],
   "source": [
    "df_vaccine.isnull().values.any()"
   ]
  },
  {
   "cell_type": "code",
   "execution_count": 18,
   "id": "f6ca9ed7-8231-443c-9750-a699cf867164",
   "metadata": {},
   "outputs": [
    {
     "data": {
      "text/plain": [
       "Date                                   0\n",
       "MMWR_week                              0\n",
       "Location                               0\n",
       "Distributed                            0\n",
       "Distributed_Janssen                    0\n",
       "                                   ...  \n",
       "Series_Complete_Pfizer_5Plus       21016\n",
       "Series_Complete_Janssen_5Plus      21016\n",
       "Series_Complete_Unk_Manuf_5Plus    21016\n",
       "week                                   0\n",
       "uid                                    0\n",
       "Length: 84, dtype: int64"
      ]
     },
     "execution_count": 18,
     "metadata": {},
     "output_type": "execute_result"
    }
   ],
   "source": [
    "df_vaccine.isnull().sum()"
   ]
  },
  {
   "cell_type": "code",
   "execution_count": 19,
   "id": "e1b97357-c1b6-4f20-b681-d48d6dfa9bab",
   "metadata": {},
   "outputs": [
    {
     "data": {
      "text/plain": [
       "Date                               datetime64[ns]\n",
       "MMWR_week                                   int64\n",
       "Location                                   object\n",
       "Distributed                                 int64\n",
       "Distributed_Janssen                         int64\n",
       "                                        ...      \n",
       "Series_Complete_Pfizer_5Plus              float64\n",
       "Series_Complete_Janssen_5Plus             float64\n",
       "Series_Complete_Unk_Manuf_5Plus           float64\n",
       "week                                       object\n",
       "uid                                        object\n",
       "Length: 84, dtype: object"
      ]
     },
     "execution_count": 19,
     "metadata": {},
     "output_type": "execute_result"
    }
   ],
   "source": [
    "df_vaccine.dtypes\n"
   ]
  },
  {
   "cell_type": "code",
   "execution_count": 84,
   "id": "cc6a4b49-cd9f-4555-ab82-6bf1736cef2c",
   "metadata": {},
   "outputs": [
    {
     "data": {
      "text/html": [
       "<div>\n",
       "<style scoped>\n",
       "    .dataframe tbody tr th:only-of-type {\n",
       "        vertical-align: middle;\n",
       "    }\n",
       "\n",
       "    .dataframe tbody tr th {\n",
       "        vertical-align: top;\n",
       "    }\n",
       "\n",
       "    .dataframe thead th {\n",
       "        text-align: right;\n",
       "    }\n",
       "</style>\n",
       "<table border=\"1\" class=\"dataframe\">\n",
       "  <thead>\n",
       "    <tr style=\"text-align: right;\">\n",
       "      <th></th>\n",
       "      <th>week</th>\n",
       "      <th>MMWR_week</th>\n",
       "    </tr>\n",
       "  </thead>\n",
       "  <tbody>\n",
       "    <tr>\n",
       "      <th>0</th>\n",
       "      <td>06</td>\n",
       "      <td>6</td>\n",
       "    </tr>\n",
       "    <tr>\n",
       "      <th>1</th>\n",
       "      <td>06</td>\n",
       "      <td>6</td>\n",
       "    </tr>\n",
       "    <tr>\n",
       "      <th>2</th>\n",
       "      <td>06</td>\n",
       "      <td>6</td>\n",
       "    </tr>\n",
       "    <tr>\n",
       "      <th>3</th>\n",
       "      <td>06</td>\n",
       "      <td>6</td>\n",
       "    </tr>\n",
       "    <tr>\n",
       "      <th>4</th>\n",
       "      <td>06</td>\n",
       "      <td>6</td>\n",
       "    </tr>\n",
       "    <tr>\n",
       "      <th>...</th>\n",
       "      <td>...</td>\n",
       "      <td>...</td>\n",
       "    </tr>\n",
       "    <tr>\n",
       "      <th>27411</th>\n",
       "      <td>50</td>\n",
       "      <td>51</td>\n",
       "    </tr>\n",
       "    <tr>\n",
       "      <th>27412</th>\n",
       "      <td>50</td>\n",
       "      <td>51</td>\n",
       "    </tr>\n",
       "    <tr>\n",
       "      <th>27413</th>\n",
       "      <td>50</td>\n",
       "      <td>51</td>\n",
       "    </tr>\n",
       "    <tr>\n",
       "      <th>27414</th>\n",
       "      <td>50</td>\n",
       "      <td>51</td>\n",
       "    </tr>\n",
       "    <tr>\n",
       "      <th>27415</th>\n",
       "      <td>50</td>\n",
       "      <td>51</td>\n",
       "    </tr>\n",
       "  </tbody>\n",
       "</table>\n",
       "<p>4081 rows × 2 columns</p>\n",
       "</div>"
      ],
      "text/plain": [
       "      week  MMWR_week\n",
       "0       06          6\n",
       "1       06          6\n",
       "2       06          6\n",
       "3       06          6\n",
       "4       06          6\n",
       "...    ...        ...\n",
       "27411   50         51\n",
       "27412   50         51\n",
       "27413   50         51\n",
       "27414   50         51\n",
       "27415   50         51\n",
       "\n",
       "[4081 rows x 2 columns]"
      ]
     },
     "execution_count": 84,
     "metadata": {},
     "output_type": "execute_result"
    }
   ],
   "source": [
    "df_vaccine[['week','MMWR_week']]"
   ]
  },
  {
   "cell_type": "markdown",
   "id": "bacf980e-7fb5-483c-b303-04949631c361",
   "metadata": {
    "tags": []
   },
   "source": [
    "#### United States COVID-19 Cases and Deaths by State over Time by Centers for Disease Control and Prevention\n",
    "source: https://data.cdc.gov/Case-Surveillance/United-States-COVID-19-Cases-and-Deaths-by-State-o/9mfq-cb36"
   ]
  },
  {
   "cell_type": "code",
   "execution_count": 85,
   "id": "c5ae0d1b-e0a2-46e0-a45f-7193b8373e59",
   "metadata": {
    "tags": []
   },
   "outputs": [],
   "source": [
    "df_cases= pd.read_csv(\"CND.csv\")"
   ]
  },
  {
   "cell_type": "code",
   "execution_count": 86,
   "id": "f55ea385-6ab8-4437-9583-4ed64b7ef272",
   "metadata": {
    "tags": []
   },
   "outputs": [
    {
     "data": {
      "text/plain": [
       "(45000, 15)"
      ]
     },
     "execution_count": 86,
     "metadata": {},
     "output_type": "execute_result"
    }
   ],
   "source": [
    "df_cases.shape"
   ]
  },
  {
   "cell_type": "code",
   "execution_count": 87,
   "id": "0faeb5bc-e42c-4502-ae69-c66ba905bdfa",
   "metadata": {},
   "outputs": [
    {
     "data": {
      "text/plain": [
       "Index(['submission_date', 'state', 'tot_cases', 'conf_cases', 'prob_cases',\n",
       "       'new_case', 'pnew_case', 'tot_death', 'conf_death', 'prob_death',\n",
       "       'new_death', 'pnew_death', 'created_at', 'consent_cases',\n",
       "       'consent_deaths'],\n",
       "      dtype='object')"
      ]
     },
     "execution_count": 87,
     "metadata": {},
     "output_type": "execute_result"
    }
   ],
   "source": [
    "df_cases.columns"
   ]
  },
  {
   "cell_type": "code",
   "execution_count": 88,
   "id": "e4679919-c88e-4699-89c0-a8a255b7c309",
   "metadata": {
    "tags": []
   },
   "outputs": [
    {
     "data": {
      "text/plain": [
       "submission_date     object\n",
       "state               object\n",
       "tot_cases            int64\n",
       "conf_cases         float64\n",
       "prob_cases         float64\n",
       "new_case             int64\n",
       "pnew_case          float64\n",
       "tot_death            int64\n",
       "conf_death         float64\n",
       "prob_death         float64\n",
       "new_death            int64\n",
       "pnew_death         float64\n",
       "created_at          object\n",
       "consent_cases       object\n",
       "consent_deaths      object\n",
       "dtype: object"
      ]
     },
     "execution_count": 88,
     "metadata": {},
     "output_type": "execute_result"
    }
   ],
   "source": [
    "df_cases.dtypes"
   ]
  },
  {
   "cell_type": "code",
   "execution_count": 89,
   "id": "d446a35a-0753-429d-8339-990b3a9dbf36",
   "metadata": {},
   "outputs": [
    {
     "data": {
      "text/html": [
       "<div>\n",
       "<style scoped>\n",
       "    .dataframe tbody tr th:only-of-type {\n",
       "        vertical-align: middle;\n",
       "    }\n",
       "\n",
       "    .dataframe tbody tr th {\n",
       "        vertical-align: top;\n",
       "    }\n",
       "\n",
       "    .dataframe thead th {\n",
       "        text-align: right;\n",
       "    }\n",
       "</style>\n",
       "<table border=\"1\" class=\"dataframe\">\n",
       "  <thead>\n",
       "    <tr style=\"text-align: right;\">\n",
       "      <th></th>\n",
       "      <th>submission_date</th>\n",
       "      <th>state</th>\n",
       "      <th>tot_cases</th>\n",
       "      <th>conf_cases</th>\n",
       "      <th>prob_cases</th>\n",
       "      <th>new_case</th>\n",
       "      <th>pnew_case</th>\n",
       "      <th>tot_death</th>\n",
       "      <th>conf_death</th>\n",
       "      <th>prob_death</th>\n",
       "      <th>new_death</th>\n",
       "      <th>pnew_death</th>\n",
       "      <th>created_at</th>\n",
       "      <th>consent_cases</th>\n",
       "      <th>consent_deaths</th>\n",
       "    </tr>\n",
       "  </thead>\n",
       "  <tbody>\n",
       "    <tr>\n",
       "      <th>0</th>\n",
       "      <td>03/11/2021</td>\n",
       "      <td>KS</td>\n",
       "      <td>297229</td>\n",
       "      <td>241035.0</td>\n",
       "      <td>56194.0</td>\n",
       "      <td>0</td>\n",
       "      <td>0.0</td>\n",
       "      <td>4851</td>\n",
       "      <td>NaN</td>\n",
       "      <td>NaN</td>\n",
       "      <td>0</td>\n",
       "      <td>0.0</td>\n",
       "      <td>03/12/2021 03:20:13 PM</td>\n",
       "      <td>Agree</td>\n",
       "      <td>NaN</td>\n",
       "    </tr>\n",
       "    <tr>\n",
       "      <th>1</th>\n",
       "      <td>02/12/2021</td>\n",
       "      <td>UT</td>\n",
       "      <td>359641</td>\n",
       "      <td>359641.0</td>\n",
       "      <td>0.0</td>\n",
       "      <td>1060</td>\n",
       "      <td>0.0</td>\n",
       "      <td>1785</td>\n",
       "      <td>1729.0</td>\n",
       "      <td>56.0</td>\n",
       "      <td>11</td>\n",
       "      <td>2.0</td>\n",
       "      <td>02/13/2021 02:50:08 PM</td>\n",
       "      <td>Agree</td>\n",
       "      <td>Agree</td>\n",
       "    </tr>\n",
       "    <tr>\n",
       "      <th>2</th>\n",
       "      <td>03/01/2021</td>\n",
       "      <td>CO</td>\n",
       "      <td>438745</td>\n",
       "      <td>411869.0</td>\n",
       "      <td>26876.0</td>\n",
       "      <td>677</td>\n",
       "      <td>60.0</td>\n",
       "      <td>5952</td>\n",
       "      <td>5218.0</td>\n",
       "      <td>734.0</td>\n",
       "      <td>1</td>\n",
       "      <td>0.0</td>\n",
       "      <td>03/01/2021 12:00:00 AM</td>\n",
       "      <td>Agree</td>\n",
       "      <td>Agree</td>\n",
       "    </tr>\n",
       "    <tr>\n",
       "      <th>3</th>\n",
       "      <td>02/04/2020</td>\n",
       "      <td>AR</td>\n",
       "      <td>0</td>\n",
       "      <td>NaN</td>\n",
       "      <td>NaN</td>\n",
       "      <td>0</td>\n",
       "      <td>NaN</td>\n",
       "      <td>0</td>\n",
       "      <td>NaN</td>\n",
       "      <td>NaN</td>\n",
       "      <td>0</td>\n",
       "      <td>NaN</td>\n",
       "      <td>03/26/2020 04:22:39 PM</td>\n",
       "      <td>Not agree</td>\n",
       "      <td>Not agree</td>\n",
       "    </tr>\n",
       "    <tr>\n",
       "      <th>4</th>\n",
       "      <td>08/22/2020</td>\n",
       "      <td>AR</td>\n",
       "      <td>56199</td>\n",
       "      <td>NaN</td>\n",
       "      <td>NaN</td>\n",
       "      <td>547</td>\n",
       "      <td>0.0</td>\n",
       "      <td>674</td>\n",
       "      <td>NaN</td>\n",
       "      <td>NaN</td>\n",
       "      <td>11</td>\n",
       "      <td>0.0</td>\n",
       "      <td>08/23/2020 02:15:28 PM</td>\n",
       "      <td>Not agree</td>\n",
       "      <td>Not agree</td>\n",
       "    </tr>\n",
       "  </tbody>\n",
       "</table>\n",
       "</div>"
      ],
      "text/plain": [
       "  submission_date state  tot_cases  conf_cases  prob_cases  new_case  \\\n",
       "0      03/11/2021    KS     297229    241035.0     56194.0         0   \n",
       "1      02/12/2021    UT     359641    359641.0         0.0      1060   \n",
       "2      03/01/2021    CO     438745    411869.0     26876.0       677   \n",
       "3      02/04/2020    AR          0         NaN         NaN         0   \n",
       "4      08/22/2020    AR      56199         NaN         NaN       547   \n",
       "\n",
       "   pnew_case  tot_death  conf_death  prob_death  new_death  pnew_death  \\\n",
       "0        0.0       4851         NaN         NaN          0         0.0   \n",
       "1        0.0       1785      1729.0        56.0         11         2.0   \n",
       "2       60.0       5952      5218.0       734.0          1         0.0   \n",
       "3        NaN          0         NaN         NaN          0         NaN   \n",
       "4        0.0        674         NaN         NaN         11         0.0   \n",
       "\n",
       "               created_at consent_cases consent_deaths  \n",
       "0  03/12/2021 03:20:13 PM         Agree            NaN  \n",
       "1  02/13/2021 02:50:08 PM         Agree          Agree  \n",
       "2  03/01/2021 12:00:00 AM         Agree          Agree  \n",
       "3  03/26/2020 04:22:39 PM     Not agree      Not agree  \n",
       "4  08/23/2020 02:15:28 PM     Not agree      Not agree  "
      ]
     },
     "execution_count": 89,
     "metadata": {},
     "output_type": "execute_result"
    }
   ],
   "source": [
    "df_cases.head()"
   ]
  },
  {
   "cell_type": "code",
   "execution_count": 90,
   "id": "0d836e8d-88fe-4486-a04c-066a2d169059",
   "metadata": {},
   "outputs": [],
   "source": [
    "df_cases[\"submission_date\"] =  pd.to_datetime(df_cases[\"submission_date\"], format='%m/%d/%Y')"
   ]
  },
  {
   "cell_type": "code",
   "execution_count": 91,
   "id": "f1ce1c79-7ace-4bcf-83e1-917ac05c6385",
   "metadata": {},
   "outputs": [
    {
     "name": "stderr",
     "output_type": "stream",
     "text": [
      "C:\\Users\\Surya\\AppData\\Local\\Temp/ipykernel_16120/87290139.py:1: FutureWarning: Series.dt.weekofyear and Series.dt.week have been deprecated.  Please use Series.dt.isocalendar().week instead.\n",
      "  df_cases[\"week\"]=df_cases[\"submission_date\"].dt.week\n"
     ]
    }
   ],
   "source": [
    "df_cases[\"week\"]=df_cases[\"submission_date\"].dt.week"
   ]
  },
  {
   "cell_type": "code",
   "execution_count": 92,
   "id": "dd858dec-dc93-4da6-a282-516982dea121",
   "metadata": {},
   "outputs": [],
   "source": [
    "df_cases[\"week\"] = df_cases[\"week\"].astype(str).str.pad(2, side='left', fillchar='0')"
   ]
  },
  {
   "cell_type": "code",
   "execution_count": 93,
   "id": "f9a61bb3-804f-409b-8567-b690d204a88d",
   "metadata": {},
   "outputs": [],
   "source": [
    "df_cases[\"uid\"]=df_cases['state']+df_cases['submission_date'].astype(str).str[:4]+df_cases[\"week\"].astype(str)"
   ]
  },
  {
   "cell_type": "code",
   "execution_count": 94,
   "id": "a1f2757d-9909-4c81-a53f-37d4334681a8",
   "metadata": {},
   "outputs": [
    {
     "data": {
      "text/plain": [
       "0        KS202110\n",
       "1        UT202106\n",
       "2        CO202109\n",
       "3        AR202006\n",
       "4        AR202034\n",
       "           ...   \n",
       "44995    IA202022\n",
       "44996    SD202023\n",
       "44997    SD202117\n",
       "44998    SD202110\n",
       "44999    OH202121\n",
       "Name: uid, Length: 45000, dtype: object"
      ]
     },
     "execution_count": 94,
     "metadata": {},
     "output_type": "execute_result"
    }
   ],
   "source": [
    "df_cases[\"uid\"]"
   ]
  },
  {
   "cell_type": "code",
   "execution_count": 95,
   "id": "95807ce9-2b0c-4f58-a491-fd077b39a0ed",
   "metadata": {},
   "outputs": [
    {
     "data": {
      "text/plain": [
       "0"
      ]
     },
     "execution_count": 95,
     "metadata": {},
     "output_type": "execute_result"
    }
   ],
   "source": [
    "df_cases[\"uid\"].isnull().sum()"
   ]
  },
  {
   "cell_type": "code",
   "execution_count": 96,
   "id": "603f6281-b1ef-412f-9db0-10f1fef7ee93",
   "metadata": {},
   "outputs": [
    {
     "data": {
      "text/plain": [
       "KS202110    7\n",
       "CT202144    7\n",
       "IN202016    7\n",
       "MO202105    7\n",
       "GU202136    7\n",
       "           ..\n",
       "OR202252    2\n",
       "IN202252    2\n",
       "WV202252    2\n",
       "SC202252    2\n",
       "PA202252    2\n",
       "Name: uid, Length: 6600, dtype: int64"
      ]
     },
     "execution_count": 96,
     "metadata": {},
     "output_type": "execute_result"
    }
   ],
   "source": [
    "df_cases[\"uid\"].value_counts()"
   ]
  },
  {
   "cell_type": "code",
   "execution_count": 99,
   "id": "b7280bca-3112-4e55-8c06-c0721be47efc",
   "metadata": {},
   "outputs": [
    {
     "data": {
      "text/html": [
       "<div>\n",
       "<style scoped>\n",
       "    .dataframe tbody tr th:only-of-type {\n",
       "        vertical-align: middle;\n",
       "    }\n",
       "\n",
       "    .dataframe tbody tr th {\n",
       "        vertical-align: top;\n",
       "    }\n",
       "\n",
       "    .dataframe thead th {\n",
       "        text-align: right;\n",
       "    }\n",
       "</style>\n",
       "<table border=\"1\" class=\"dataframe\">\n",
       "  <thead>\n",
       "    <tr style=\"text-align: right;\">\n",
       "      <th></th>\n",
       "      <th>submission_date</th>\n",
       "      <th>state</th>\n",
       "      <th>tot_cases</th>\n",
       "      <th>conf_cases</th>\n",
       "      <th>prob_cases</th>\n",
       "      <th>new_case</th>\n",
       "      <th>pnew_case</th>\n",
       "      <th>tot_death</th>\n",
       "      <th>conf_death</th>\n",
       "      <th>prob_death</th>\n",
       "      <th>new_death</th>\n",
       "      <th>pnew_death</th>\n",
       "      <th>created_at</th>\n",
       "      <th>consent_cases</th>\n",
       "      <th>consent_deaths</th>\n",
       "      <th>week</th>\n",
       "      <th>uid</th>\n",
       "    </tr>\n",
       "  </thead>\n",
       "  <tbody>\n",
       "    <tr>\n",
       "      <th>0</th>\n",
       "      <td>2021-03-11</td>\n",
       "      <td>KS</td>\n",
       "      <td>297229</td>\n",
       "      <td>241035.0</td>\n",
       "      <td>56194.0</td>\n",
       "      <td>0</td>\n",
       "      <td>0.0</td>\n",
       "      <td>4851</td>\n",
       "      <td>NaN</td>\n",
       "      <td>NaN</td>\n",
       "      <td>0</td>\n",
       "      <td>0.0</td>\n",
       "      <td>03/12/2021 03:20:13 PM</td>\n",
       "      <td>Agree</td>\n",
       "      <td>NaN</td>\n",
       "      <td>10</td>\n",
       "      <td>KS202110</td>\n",
       "    </tr>\n",
       "    <tr>\n",
       "      <th>876</th>\n",
       "      <td>2021-03-10</td>\n",
       "      <td>KS</td>\n",
       "      <td>297229</td>\n",
       "      <td>241035.0</td>\n",
       "      <td>56194.0</td>\n",
       "      <td>778</td>\n",
       "      <td>223.0</td>\n",
       "      <td>4851</td>\n",
       "      <td>NaN</td>\n",
       "      <td>NaN</td>\n",
       "      <td>35</td>\n",
       "      <td>-1.0</td>\n",
       "      <td>03/11/2021 03:36:21 PM</td>\n",
       "      <td>Agree</td>\n",
       "      <td>NaN</td>\n",
       "      <td>10</td>\n",
       "      <td>KS202110</td>\n",
       "    </tr>\n",
       "    <tr>\n",
       "      <th>1375</th>\n",
       "      <td>2021-03-14</td>\n",
       "      <td>KS</td>\n",
       "      <td>297748</td>\n",
       "      <td>241369.0</td>\n",
       "      <td>56379.0</td>\n",
       "      <td>0</td>\n",
       "      <td>0.0</td>\n",
       "      <td>4824</td>\n",
       "      <td>NaN</td>\n",
       "      <td>NaN</td>\n",
       "      <td>0</td>\n",
       "      <td>0.0</td>\n",
       "      <td>03/15/2021 02:03:45 PM</td>\n",
       "      <td>Agree</td>\n",
       "      <td>NaN</td>\n",
       "      <td>10</td>\n",
       "      <td>KS202110</td>\n",
       "    </tr>\n",
       "    <tr>\n",
       "      <th>3268</th>\n",
       "      <td>2021-03-08</td>\n",
       "      <td>KS</td>\n",
       "      <td>296451</td>\n",
       "      <td>240480.0</td>\n",
       "      <td>55971.0</td>\n",
       "      <td>590</td>\n",
       "      <td>98.0</td>\n",
       "      <td>4816</td>\n",
       "      <td>NaN</td>\n",
       "      <td>NaN</td>\n",
       "      <td>4</td>\n",
       "      <td>-2.0</td>\n",
       "      <td>03/09/2021 02:47:41 PM</td>\n",
       "      <td>Agree</td>\n",
       "      <td>NaN</td>\n",
       "      <td>10</td>\n",
       "      <td>KS202110</td>\n",
       "    </tr>\n",
       "    <tr>\n",
       "      <th>3325</th>\n",
       "      <td>2021-03-09</td>\n",
       "      <td>KS</td>\n",
       "      <td>296451</td>\n",
       "      <td>240480.0</td>\n",
       "      <td>55971.0</td>\n",
       "      <td>0</td>\n",
       "      <td>0.0</td>\n",
       "      <td>4816</td>\n",
       "      <td>NaN</td>\n",
       "      <td>NaN</td>\n",
       "      <td>0</td>\n",
       "      <td>0.0</td>\n",
       "      <td>03/10/2021 02:58:31 PM</td>\n",
       "      <td>Agree</td>\n",
       "      <td>NaN</td>\n",
       "      <td>10</td>\n",
       "      <td>KS202110</td>\n",
       "    </tr>\n",
       "    <tr>\n",
       "      <th>40422</th>\n",
       "      <td>2021-03-13</td>\n",
       "      <td>KS</td>\n",
       "      <td>297748</td>\n",
       "      <td>241369.0</td>\n",
       "      <td>56379.0</td>\n",
       "      <td>0</td>\n",
       "      <td>0.0</td>\n",
       "      <td>4824</td>\n",
       "      <td>NaN</td>\n",
       "      <td>NaN</td>\n",
       "      <td>0</td>\n",
       "      <td>0.0</td>\n",
       "      <td>03/14/2021 01:53:25 PM</td>\n",
       "      <td>Agree</td>\n",
       "      <td>NaN</td>\n",
       "      <td>10</td>\n",
       "      <td>KS202110</td>\n",
       "    </tr>\n",
       "    <tr>\n",
       "      <th>40491</th>\n",
       "      <td>2021-03-12</td>\n",
       "      <td>KS</td>\n",
       "      <td>297748</td>\n",
       "      <td>241369.0</td>\n",
       "      <td>56379.0</td>\n",
       "      <td>519</td>\n",
       "      <td>185.0</td>\n",
       "      <td>4824</td>\n",
       "      <td>NaN</td>\n",
       "      <td>NaN</td>\n",
       "      <td>-27</td>\n",
       "      <td>0.0</td>\n",
       "      <td>03/13/2021 03:19:19 PM</td>\n",
       "      <td>Agree</td>\n",
       "      <td>NaN</td>\n",
       "      <td>10</td>\n",
       "      <td>KS202110</td>\n",
       "    </tr>\n",
       "  </tbody>\n",
       "</table>\n",
       "</div>"
      ],
      "text/plain": [
       "      submission_date state  tot_cases  conf_cases  prob_cases  new_case  \\\n",
       "0          2021-03-11    KS     297229    241035.0     56194.0         0   \n",
       "876        2021-03-10    KS     297229    241035.0     56194.0       778   \n",
       "1375       2021-03-14    KS     297748    241369.0     56379.0         0   \n",
       "3268       2021-03-08    KS     296451    240480.0     55971.0       590   \n",
       "3325       2021-03-09    KS     296451    240480.0     55971.0         0   \n",
       "40422      2021-03-13    KS     297748    241369.0     56379.0         0   \n",
       "40491      2021-03-12    KS     297748    241369.0     56379.0       519   \n",
       "\n",
       "       pnew_case  tot_death  conf_death  prob_death  new_death  pnew_death  \\\n",
       "0            0.0       4851         NaN         NaN          0         0.0   \n",
       "876        223.0       4851         NaN         NaN         35        -1.0   \n",
       "1375         0.0       4824         NaN         NaN          0         0.0   \n",
       "3268        98.0       4816         NaN         NaN          4        -2.0   \n",
       "3325         0.0       4816         NaN         NaN          0         0.0   \n",
       "40422        0.0       4824         NaN         NaN          0         0.0   \n",
       "40491      185.0       4824         NaN         NaN        -27         0.0   \n",
       "\n",
       "                   created_at consent_cases consent_deaths week       uid  \n",
       "0      03/12/2021 03:20:13 PM         Agree            NaN   10  KS202110  \n",
       "876    03/11/2021 03:36:21 PM         Agree            NaN   10  KS202110  \n",
       "1375   03/15/2021 02:03:45 PM         Agree            NaN   10  KS202110  \n",
       "3268   03/09/2021 02:47:41 PM         Agree            NaN   10  KS202110  \n",
       "3325   03/10/2021 02:58:31 PM         Agree            NaN   10  KS202110  \n",
       "40422  03/14/2021 01:53:25 PM         Agree            NaN   10  KS202110  \n",
       "40491  03/13/2021 03:19:19 PM         Agree            NaN   10  KS202110  "
      ]
     },
     "execution_count": 99,
     "metadata": {},
     "output_type": "execute_result"
    }
   ],
   "source": [
    "df_cases[df_cases[\"uid\"]=='KS202110']"
   ]
  },
  {
   "cell_type": "code",
   "execution_count": 101,
   "id": "9a937696-a919-430d-9f51-460dbfc370de",
   "metadata": {},
   "outputs": [],
   "source": [
    "df_cases=df_cases.sort_values('submission_date', ascending=False).drop_duplicates('uid').sort_index()"
   ]
  },
  {
   "cell_type": "code",
   "execution_count": 102,
   "id": "af42e937-64ad-4d4a-bd50-1e220f9f7d3a",
   "metadata": {},
   "outputs": [
    {
     "data": {
      "text/plain": [
       "(6600, 17)"
      ]
     },
     "execution_count": 102,
     "metadata": {},
     "output_type": "execute_result"
    }
   ],
   "source": [
    "df_cases.shape"
   ]
  },
  {
   "cell_type": "markdown",
   "id": "a4c616ed-bcd1-4cd3-a67e-a848cde25f3f",
   "metadata": {
    "tags": []
   },
   "source": [
    "#### COVID Hospital Statistics by the U.S. Department of Health & Human Services\n",
    "Source: https://healthdata.gov/Hospital/COVID-19-Reported-Patient-Impact-and-Hospital-Capa/anag-cw7u"
   ]
  },
  {
   "cell_type": "code",
   "execution_count": 35,
   "id": "aa55d202-1bc7-487a-aa7c-2ca74898a749",
   "metadata": {
    "tags": []
   },
   "outputs": [],
   "source": [
    "df_hospitals= pd.read_csv(\"Hospitals.csv\")"
   ]
  },
  {
   "cell_type": "code",
   "execution_count": 36,
   "id": "b3d0d50b-912f-4ec2-99d4-177f2e46fc62",
   "metadata": {},
   "outputs": [
    {
     "data": {
      "text/plain": [
       "(394846, 109)"
      ]
     },
     "execution_count": 36,
     "metadata": {},
     "output_type": "execute_result"
    }
   ],
   "source": [
    "df_hospitals.shape"
   ]
  },
  {
   "cell_type": "code",
   "execution_count": 37,
   "id": "dc3c1128-0865-4cc1-b690-ed9af9c6b7cd",
   "metadata": {},
   "outputs": [
    {
     "data": {
      "text/plain": [
       "Index(['hospital_pk', 'collection_week', 'state', 'ccn', 'hospital_name',\n",
       "       'address', 'city', 'zip', 'hospital_subtype', 'fips_code',\n",
       "       ...\n",
       "       'previous_day_admission_pediatric_covid_confirmed_7_day_coverage',\n",
       "       'previous_day_admission_adult_covid_suspected_7_day_coverage',\n",
       "       'previous_day_admission_pediatric_covid_suspected_7_day_coverage',\n",
       "       'previous_week_personnel_covid_vaccinated_doses_administered_7_day',\n",
       "       'total_personnel_covid_vaccinated_doses_none_7_day',\n",
       "       'total_personnel_covid_vaccinated_doses_one_7_day',\n",
       "       'total_personnel_covid_vaccinated_doses_all_7_day',\n",
       "       'previous_week_patients_covid_vaccinated_doses_one_7_day',\n",
       "       'previous_week_patients_covid_vaccinated_doses_all_7_day',\n",
       "       'is_corrected'],\n",
       "      dtype='object', length=109)"
      ]
     },
     "execution_count": 37,
     "metadata": {},
     "output_type": "execute_result"
    }
   ],
   "source": [
    "df_hospitals.columns"
   ]
  },
  {
   "cell_type": "code",
   "execution_count": 38,
   "id": "ddc6e346-cdaa-4035-8da5-316e04ba53bb",
   "metadata": {},
   "outputs": [
    {
     "data": {
      "text/plain": [
       "hospital_pk                                                 object\n",
       "collection_week                                             object\n",
       "state                                                       object\n",
       "ccn                                                         object\n",
       "hospital_name                                               object\n",
       "                                                            ...   \n",
       "total_personnel_covid_vaccinated_doses_one_7_day           float64\n",
       "total_personnel_covid_vaccinated_doses_all_7_day           float64\n",
       "previous_week_patients_covid_vaccinated_doses_one_7_day    float64\n",
       "previous_week_patients_covid_vaccinated_doses_all_7_day    float64\n",
       "is_corrected                                                  bool\n",
       "Length: 109, dtype: object"
      ]
     },
     "execution_count": 38,
     "metadata": {},
     "output_type": "execute_result"
    }
   ],
   "source": [
    "df_hospitals.dtypes"
   ]
  },
  {
   "cell_type": "code",
   "execution_count": 39,
   "id": "129e0a85-df64-4381-8757-0837d77128c3",
   "metadata": {},
   "outputs": [
    {
     "data": {
      "text/html": [
       "<div>\n",
       "<style scoped>\n",
       "    .dataframe tbody tr th:only-of-type {\n",
       "        vertical-align: middle;\n",
       "    }\n",
       "\n",
       "    .dataframe tbody tr th {\n",
       "        vertical-align: top;\n",
       "    }\n",
       "\n",
       "    .dataframe thead th {\n",
       "        text-align: right;\n",
       "    }\n",
       "</style>\n",
       "<table border=\"1\" class=\"dataframe\">\n",
       "  <thead>\n",
       "    <tr style=\"text-align: right;\">\n",
       "      <th></th>\n",
       "      <th>hospital_pk</th>\n",
       "      <th>collection_week</th>\n",
       "      <th>state</th>\n",
       "      <th>ccn</th>\n",
       "      <th>hospital_name</th>\n",
       "      <th>address</th>\n",
       "      <th>city</th>\n",
       "      <th>zip</th>\n",
       "      <th>hospital_subtype</th>\n",
       "      <th>fips_code</th>\n",
       "      <th>...</th>\n",
       "      <th>previous_day_admission_pediatric_covid_confirmed_7_day_coverage</th>\n",
       "      <th>previous_day_admission_adult_covid_suspected_7_day_coverage</th>\n",
       "      <th>previous_day_admission_pediatric_covid_suspected_7_day_coverage</th>\n",
       "      <th>previous_week_personnel_covid_vaccinated_doses_administered_7_day</th>\n",
       "      <th>total_personnel_covid_vaccinated_doses_none_7_day</th>\n",
       "      <th>total_personnel_covid_vaccinated_doses_one_7_day</th>\n",
       "      <th>total_personnel_covid_vaccinated_doses_all_7_day</th>\n",
       "      <th>previous_week_patients_covid_vaccinated_doses_one_7_day</th>\n",
       "      <th>previous_week_patients_covid_vaccinated_doses_all_7_day</th>\n",
       "      <th>is_corrected</th>\n",
       "    </tr>\n",
       "  </thead>\n",
       "  <tbody>\n",
       "    <tr>\n",
       "      <th>0</th>\n",
       "      <td>040161</td>\n",
       "      <td>2022/01/28</td>\n",
       "      <td>AR</td>\n",
       "      <td>040161</td>\n",
       "      <td>ARKANSAS HEART HOSPITAL-ENCORE</td>\n",
       "      <td>1901 ENCORE WAY</td>\n",
       "      <td>BRYANT</td>\n",
       "      <td>72022.0</td>\n",
       "      <td>Short Term</td>\n",
       "      <td>5125.0</td>\n",
       "      <td>...</td>\n",
       "      <td>4</td>\n",
       "      <td>4</td>\n",
       "      <td>4</td>\n",
       "      <td>NaN</td>\n",
       "      <td>NaN</td>\n",
       "      <td>NaN</td>\n",
       "      <td>NaN</td>\n",
       "      <td>NaN</td>\n",
       "      <td>NaN</td>\n",
       "      <td>False</td>\n",
       "    </tr>\n",
       "    <tr>\n",
       "      <th>1</th>\n",
       "      <td>041317</td>\n",
       "      <td>2020/08/07</td>\n",
       "      <td>AR</td>\n",
       "      <td>041317</td>\n",
       "      <td>DALLAS COUNTY MEDICAL CENTER</td>\n",
       "      <td>201 CLIFTON STREET</td>\n",
       "      <td>FORDYCE</td>\n",
       "      <td>71742.0</td>\n",
       "      <td>Critical Access Hospitals</td>\n",
       "      <td>5039.0</td>\n",
       "      <td>...</td>\n",
       "      <td>3</td>\n",
       "      <td>3</td>\n",
       "      <td>3</td>\n",
       "      <td>NaN</td>\n",
       "      <td>NaN</td>\n",
       "      <td>NaN</td>\n",
       "      <td>NaN</td>\n",
       "      <td>NaN</td>\n",
       "      <td>NaN</td>\n",
       "      <td>False</td>\n",
       "    </tr>\n",
       "    <tr>\n",
       "      <th>2</th>\n",
       "      <td>171352</td>\n",
       "      <td>2020/07/31</td>\n",
       "      <td>KS</td>\n",
       "      <td>171352</td>\n",
       "      <td>DECATUR COUNTY HOSPITAL</td>\n",
       "      <td>810 W  COLUMBIA STREET</td>\n",
       "      <td>OBERLIN</td>\n",
       "      <td>67749.0</td>\n",
       "      <td>Critical Access Hospitals</td>\n",
       "      <td>20039.0</td>\n",
       "      <td>...</td>\n",
       "      <td>7</td>\n",
       "      <td>7</td>\n",
       "      <td>7</td>\n",
       "      <td>NaN</td>\n",
       "      <td>NaN</td>\n",
       "      <td>NaN</td>\n",
       "      <td>NaN</td>\n",
       "      <td>NaN</td>\n",
       "      <td>NaN</td>\n",
       "      <td>False</td>\n",
       "    </tr>\n",
       "    <tr>\n",
       "      <th>3</th>\n",
       "      <td>271342</td>\n",
       "      <td>2020/07/31</td>\n",
       "      <td>MT</td>\n",
       "      <td>271342</td>\n",
       "      <td>DANIELS MEMORIAL HOSPITAL</td>\n",
       "      <td>105 5TH AVE E</td>\n",
       "      <td>SCOBEY</td>\n",
       "      <td>59263.0</td>\n",
       "      <td>Critical Access Hospitals</td>\n",
       "      <td>30019.0</td>\n",
       "      <td>...</td>\n",
       "      <td>0</td>\n",
       "      <td>0</td>\n",
       "      <td>0</td>\n",
       "      <td>NaN</td>\n",
       "      <td>NaN</td>\n",
       "      <td>NaN</td>\n",
       "      <td>NaN</td>\n",
       "      <td>NaN</td>\n",
       "      <td>NaN</td>\n",
       "      <td>False</td>\n",
       "    </tr>\n",
       "    <tr>\n",
       "      <th>4</th>\n",
       "      <td>250012</td>\n",
       "      <td>2020/07/31</td>\n",
       "      <td>MS</td>\n",
       "      <td>250012</td>\n",
       "      <td>ALLIANCE HEALTHCARE SYSTEM</td>\n",
       "      <td>1430 HIGHWAY 4 EAST / P O BOX 6000</td>\n",
       "      <td>HOLLY SPRINGS</td>\n",
       "      <td>38635.0</td>\n",
       "      <td>Short Term</td>\n",
       "      <td>28093.0</td>\n",
       "      <td>...</td>\n",
       "      <td>0</td>\n",
       "      <td>6</td>\n",
       "      <td>0</td>\n",
       "      <td>NaN</td>\n",
       "      <td>NaN</td>\n",
       "      <td>NaN</td>\n",
       "      <td>NaN</td>\n",
       "      <td>NaN</td>\n",
       "      <td>NaN</td>\n",
       "      <td>False</td>\n",
       "    </tr>\n",
       "  </tbody>\n",
       "</table>\n",
       "<p>5 rows × 109 columns</p>\n",
       "</div>"
      ],
      "text/plain": [
       "  hospital_pk collection_week state     ccn                   hospital_name  \\\n",
       "0      040161      2022/01/28    AR  040161  ARKANSAS HEART HOSPITAL-ENCORE   \n",
       "1      041317      2020/08/07    AR  041317    DALLAS COUNTY MEDICAL CENTER   \n",
       "2      171352      2020/07/31    KS  171352         DECATUR COUNTY HOSPITAL   \n",
       "3      271342      2020/07/31    MT  271342       DANIELS MEMORIAL HOSPITAL   \n",
       "4      250012      2020/07/31    MS  250012      ALLIANCE HEALTHCARE SYSTEM   \n",
       "\n",
       "                              address           city      zip  \\\n",
       "0                     1901 ENCORE WAY         BRYANT  72022.0   \n",
       "1                  201 CLIFTON STREET        FORDYCE  71742.0   \n",
       "2              810 W  COLUMBIA STREET        OBERLIN  67749.0   \n",
       "3                       105 5TH AVE E         SCOBEY  59263.0   \n",
       "4  1430 HIGHWAY 4 EAST / P O BOX 6000  HOLLY SPRINGS  38635.0   \n",
       "\n",
       "            hospital_subtype  fips_code  ...  \\\n",
       "0                 Short Term     5125.0  ...   \n",
       "1  Critical Access Hospitals     5039.0  ...   \n",
       "2  Critical Access Hospitals    20039.0  ...   \n",
       "3  Critical Access Hospitals    30019.0  ...   \n",
       "4                 Short Term    28093.0  ...   \n",
       "\n",
       "   previous_day_admission_pediatric_covid_confirmed_7_day_coverage  \\\n",
       "0                                                  4                 \n",
       "1                                                  3                 \n",
       "2                                                  7                 \n",
       "3                                                  0                 \n",
       "4                                                  0                 \n",
       "\n",
       "   previous_day_admission_adult_covid_suspected_7_day_coverage  \\\n",
       "0                                                  4             \n",
       "1                                                  3             \n",
       "2                                                  7             \n",
       "3                                                  0             \n",
       "4                                                  6             \n",
       "\n",
       "   previous_day_admission_pediatric_covid_suspected_7_day_coverage  \\\n",
       "0                                                  4                 \n",
       "1                                                  3                 \n",
       "2                                                  7                 \n",
       "3                                                  0                 \n",
       "4                                                  0                 \n",
       "\n",
       "   previous_week_personnel_covid_vaccinated_doses_administered_7_day  \\\n",
       "0                                                NaN                   \n",
       "1                                                NaN                   \n",
       "2                                                NaN                   \n",
       "3                                                NaN                   \n",
       "4                                                NaN                   \n",
       "\n",
       "   total_personnel_covid_vaccinated_doses_none_7_day  \\\n",
       "0                                                NaN   \n",
       "1                                                NaN   \n",
       "2                                                NaN   \n",
       "3                                                NaN   \n",
       "4                                                NaN   \n",
       "\n",
       "   total_personnel_covid_vaccinated_doses_one_7_day  \\\n",
       "0                                               NaN   \n",
       "1                                               NaN   \n",
       "2                                               NaN   \n",
       "3                                               NaN   \n",
       "4                                               NaN   \n",
       "\n",
       "   total_personnel_covid_vaccinated_doses_all_7_day  \\\n",
       "0                                               NaN   \n",
       "1                                               NaN   \n",
       "2                                               NaN   \n",
       "3                                               NaN   \n",
       "4                                               NaN   \n",
       "\n",
       "   previous_week_patients_covid_vaccinated_doses_one_7_day  \\\n",
       "0                                                NaN         \n",
       "1                                                NaN         \n",
       "2                                                NaN         \n",
       "3                                                NaN         \n",
       "4                                                NaN         \n",
       "\n",
       "   previous_week_patients_covid_vaccinated_doses_all_7_day  is_corrected  \n",
       "0                                                NaN               False  \n",
       "1                                                NaN               False  \n",
       "2                                                NaN               False  \n",
       "3                                                NaN               False  \n",
       "4                                                NaN               False  \n",
       "\n",
       "[5 rows x 109 columns]"
      ]
     },
     "execution_count": 39,
     "metadata": {},
     "output_type": "execute_result"
    }
   ],
   "source": [
    "df_hospitals.head()"
   ]
  },
  {
   "cell_type": "code",
   "execution_count": 40,
   "id": "7d2a4640-f5ff-43ce-b4dd-6055259e112a",
   "metadata": {},
   "outputs": [
    {
     "data": {
      "text/plain": [
       "array(['Short Term', 'Critical Access Hospitals', 'Long Term',\n",
       "       'Childrens Hospitals'], dtype=object)"
      ]
     },
     "execution_count": 40,
     "metadata": {},
     "output_type": "execute_result"
    }
   ],
   "source": [
    "df_hospitals[\"hospital_subtype\"].unique()"
   ]
  },
  {
   "cell_type": "code",
   "execution_count": 41,
   "id": "52766107-8ad0-4c09-ad41-71b6e4b4328e",
   "metadata": {
    "tags": []
   },
   "outputs": [],
   "source": [
    "df_hospitals[\"collection_week\"] =  pd.to_datetime(df_hospitals[\"collection_week\"], format='%Y/%m/%d')"
   ]
  },
  {
   "cell_type": "code",
   "execution_count": 42,
   "id": "41e4b3ca-aac1-4887-8eaa-629ebdfc33ee",
   "metadata": {},
   "outputs": [
    {
     "name": "stderr",
     "output_type": "stream",
     "text": [
      "C:\\Users\\Surya\\AppData\\Local\\Temp/ipykernel_16120/545828758.py:1: FutureWarning: Series.dt.weekofyear and Series.dt.week have been deprecated.  Please use Series.dt.isocalendar().week instead.\n",
      "  df_hospitals[\"week\"]=df_hospitals[\"collection_week\"].dt.week\n"
     ]
    }
   ],
   "source": [
    "df_hospitals[\"week\"]=df_hospitals[\"collection_week\"].dt.week\n"
   ]
  },
  {
   "cell_type": "code",
   "execution_count": 43,
   "id": "573df91f-fbc3-497c-8584-b1be49c1c2e2",
   "metadata": {},
   "outputs": [],
   "source": [
    "df_hospitals[\"week\"] = df_hospitals[\"week\"].astype(str).str.pad(2, side='left', fillchar='0')"
   ]
  },
  {
   "cell_type": "code",
   "execution_count": 44,
   "id": "26fc501b-b461-431f-a681-950a3063a5ca",
   "metadata": {},
   "outputs": [
    {
     "data": {
      "text/plain": [
       "0         04\n",
       "1         32\n",
       "2         31\n",
       "3         31\n",
       "4         31\n",
       "          ..\n",
       "394841    32\n",
       "394842    31\n",
       "394843    31\n",
       "394844    32\n",
       "394845    31\n",
       "Name: week, Length: 394846, dtype: object"
      ]
     },
     "execution_count": 44,
     "metadata": {},
     "output_type": "execute_result"
    }
   ],
   "source": [
    "df_hospitals[\"week\"]"
   ]
  },
  {
   "cell_type": "code",
   "execution_count": 45,
   "id": "81fd95fa-70b0-4a38-85a8-84d4d5ea691a",
   "metadata": {},
   "outputs": [],
   "source": [
    "df_hospitals[\"uid\"]=df_hospitals['state']+df_hospitals['collection_week'].astype(str).str[:4]+df_hospitals[\"week\"].astype(str)"
   ]
  },
  {
   "cell_type": "code",
   "execution_count": 47,
   "id": "9ed353aa-4d35-474b-97fb-017581bb271d",
   "metadata": {},
   "outputs": [
    {
     "data": {
      "text/plain": [
       "0         AR202204\n",
       "1         AR202032\n",
       "2         KS202031\n",
       "3         MT202031\n",
       "4         MS202031\n",
       "            ...   \n",
       "394841    CO202032\n",
       "394842    MN202031\n",
       "394843    MN202031\n",
       "394844    MO202032\n",
       "394845    FL202031\n",
       "Name: uid, Length: 394846, dtype: object"
      ]
     },
     "execution_count": 47,
     "metadata": {},
     "output_type": "execute_result"
    }
   ],
   "source": [
    "df_hospitals[\"uid\"]"
   ]
  },
  {
   "cell_type": "code",
   "execution_count": 111,
   "id": "d8083933-bc69-460e-bb49-0c7cc0109bb4",
   "metadata": {},
   "outputs": [
    {
     "data": {
      "text/plain": [
       "TX202123    451\n",
       "TX202117    450\n",
       "TX202121    450\n",
       "TX202102    450\n",
       "TX202153    450\n",
       "           ... \n",
       "MP202040      1\n",
       "MP202046      1\n",
       "MP202041      1\n",
       "AS202203      1\n",
       "MP202148      1\n",
       "Name: uid, Length: 4369, dtype: int64"
      ]
     },
     "execution_count": 111,
     "metadata": {},
     "output_type": "execute_result"
    }
   ],
   "source": [
    "df_hospitals[\"uid\"].value_counts()"
   ]
  },
  {
   "cell_type": "code",
   "execution_count": 112,
   "id": "4dbc309e-43aa-4b65-8674-7e974af3952a",
   "metadata": {},
   "outputs": [
    {
     "data": {
      "text/html": [
       "<div>\n",
       "<style scoped>\n",
       "    .dataframe tbody tr th:only-of-type {\n",
       "        vertical-align: middle;\n",
       "    }\n",
       "\n",
       "    .dataframe tbody tr th {\n",
       "        vertical-align: top;\n",
       "    }\n",
       "\n",
       "    .dataframe thead th {\n",
       "        text-align: right;\n",
       "    }\n",
       "</style>\n",
       "<table border=\"1\" class=\"dataframe\">\n",
       "  <thead>\n",
       "    <tr style=\"text-align: right;\">\n",
       "      <th></th>\n",
       "      <th>hospital_pk</th>\n",
       "      <th>collection_week</th>\n",
       "      <th>state</th>\n",
       "      <th>ccn</th>\n",
       "      <th>hospital_name</th>\n",
       "      <th>address</th>\n",
       "      <th>city</th>\n",
       "      <th>zip</th>\n",
       "      <th>hospital_subtype</th>\n",
       "      <th>fips_code</th>\n",
       "      <th>...</th>\n",
       "      <th>previous_day_admission_pediatric_covid_suspected_7_day_coverage</th>\n",
       "      <th>previous_week_personnel_covid_vaccinated_doses_administered_7_day</th>\n",
       "      <th>total_personnel_covid_vaccinated_doses_none_7_day</th>\n",
       "      <th>total_personnel_covid_vaccinated_doses_one_7_day</th>\n",
       "      <th>total_personnel_covid_vaccinated_doses_all_7_day</th>\n",
       "      <th>previous_week_patients_covid_vaccinated_doses_one_7_day</th>\n",
       "      <th>previous_week_patients_covid_vaccinated_doses_all_7_day</th>\n",
       "      <th>is_corrected</th>\n",
       "      <th>week</th>\n",
       "      <th>uid</th>\n",
       "    </tr>\n",
       "  </thead>\n",
       "  <tbody>\n",
       "    <tr>\n",
       "      <th>165366</th>\n",
       "      <td>450097</td>\n",
       "      <td>2021-06-11</td>\n",
       "      <td>TX</td>\n",
       "      <td>450097</td>\n",
       "      <td>HCA HOUSTON HEALTHCARE SOUTHEAST</td>\n",
       "      <td>4000 SPENCER HWY</td>\n",
       "      <td>PASADENA</td>\n",
       "      <td>77504.0</td>\n",
       "      <td>Short Term</td>\n",
       "      <td>48201.0</td>\n",
       "      <td>...</td>\n",
       "      <td>7</td>\n",
       "      <td>NaN</td>\n",
       "      <td>NaN</td>\n",
       "      <td>NaN</td>\n",
       "      <td>NaN</td>\n",
       "      <td>NaN</td>\n",
       "      <td>NaN</td>\n",
       "      <td>False</td>\n",
       "      <td>23</td>\n",
       "      <td>TX202123</td>\n",
       "    </tr>\n",
       "    <tr>\n",
       "      <th>165404</th>\n",
       "      <td>670134</td>\n",
       "      <td>2021-06-11</td>\n",
       "      <td>TX</td>\n",
       "      <td>670134</td>\n",
       "      <td>ALTUS LUMBERTON HOSPITAL</td>\n",
       "      <td>220 BLANCO ST</td>\n",
       "      <td>LUMBERTON</td>\n",
       "      <td>77657.0</td>\n",
       "      <td>Short Term</td>\n",
       "      <td>48199.0</td>\n",
       "      <td>...</td>\n",
       "      <td>7</td>\n",
       "      <td>NaN</td>\n",
       "      <td>NaN</td>\n",
       "      <td>NaN</td>\n",
       "      <td>NaN</td>\n",
       "      <td>NaN</td>\n",
       "      <td>NaN</td>\n",
       "      <td>False</td>\n",
       "      <td>23</td>\n",
       "      <td>TX202123</td>\n",
       "    </tr>\n",
       "    <tr>\n",
       "      <th>165410</th>\n",
       "      <td>450163</td>\n",
       "      <td>2021-06-11</td>\n",
       "      <td>TX</td>\n",
       "      <td>450163</td>\n",
       "      <td>CHRISTUS SPOHN HOSPITAL KLEBERG</td>\n",
       "      <td>1311 GENERAL CAVAZOS BLVD</td>\n",
       "      <td>KINGSVILLE</td>\n",
       "      <td>78363.0</td>\n",
       "      <td>Short Term</td>\n",
       "      <td>48273.0</td>\n",
       "      <td>...</td>\n",
       "      <td>7</td>\n",
       "      <td>NaN</td>\n",
       "      <td>NaN</td>\n",
       "      <td>NaN</td>\n",
       "      <td>NaN</td>\n",
       "      <td>NaN</td>\n",
       "      <td>NaN</td>\n",
       "      <td>False</td>\n",
       "      <td>23</td>\n",
       "      <td>TX202123</td>\n",
       "    </tr>\n",
       "    <tr>\n",
       "      <th>165453</th>\n",
       "      <td>452083</td>\n",
       "      <td>2021-06-11</td>\n",
       "      <td>TX</td>\n",
       "      <td>452083</td>\n",
       "      <td>MID-JEFFERSON EXTENDED CARE HOSPITAL</td>\n",
       "      <td>2600 HWY 365</td>\n",
       "      <td>NEDERLAND</td>\n",
       "      <td>77627.0</td>\n",
       "      <td>Long Term</td>\n",
       "      <td>48245.0</td>\n",
       "      <td>...</td>\n",
       "      <td>7</td>\n",
       "      <td>NaN</td>\n",
       "      <td>NaN</td>\n",
       "      <td>NaN</td>\n",
       "      <td>NaN</td>\n",
       "      <td>NaN</td>\n",
       "      <td>NaN</td>\n",
       "      <td>False</td>\n",
       "      <td>23</td>\n",
       "      <td>TX202123</td>\n",
       "    </tr>\n",
       "    <tr>\n",
       "      <th>165464</th>\n",
       "      <td>450647</td>\n",
       "      <td>2021-06-11</td>\n",
       "      <td>TX</td>\n",
       "      <td>450647</td>\n",
       "      <td>MEDICAL CITY DALLAS</td>\n",
       "      <td>7777 FOREST LANE</td>\n",
       "      <td>DALLAS</td>\n",
       "      <td>75230.0</td>\n",
       "      <td>Short Term</td>\n",
       "      <td>48113.0</td>\n",
       "      <td>...</td>\n",
       "      <td>7</td>\n",
       "      <td>NaN</td>\n",
       "      <td>NaN</td>\n",
       "      <td>NaN</td>\n",
       "      <td>NaN</td>\n",
       "      <td>NaN</td>\n",
       "      <td>NaN</td>\n",
       "      <td>False</td>\n",
       "      <td>23</td>\n",
       "      <td>TX202123</td>\n",
       "    </tr>\n",
       "    <tr>\n",
       "      <th>...</th>\n",
       "      <td>...</td>\n",
       "      <td>...</td>\n",
       "      <td>...</td>\n",
       "      <td>...</td>\n",
       "      <td>...</td>\n",
       "      <td>...</td>\n",
       "      <td>...</td>\n",
       "      <td>...</td>\n",
       "      <td>...</td>\n",
       "      <td>...</td>\n",
       "      <td>...</td>\n",
       "      <td>...</td>\n",
       "      <td>...</td>\n",
       "      <td>...</td>\n",
       "      <td>...</td>\n",
       "      <td>...</td>\n",
       "      <td>...</td>\n",
       "      <td>...</td>\n",
       "      <td>...</td>\n",
       "      <td>...</td>\n",
       "      <td>...</td>\n",
       "    </tr>\n",
       "    <tr>\n",
       "      <th>178151</th>\n",
       "      <td>451306</td>\n",
       "      <td>2021-06-11</td>\n",
       "      <td>TX</td>\n",
       "      <td>451306</td>\n",
       "      <td>KIMBLE HOSPITAL</td>\n",
       "      <td>349 REID ROAD</td>\n",
       "      <td>JUNCTION</td>\n",
       "      <td>76849.0</td>\n",
       "      <td>Critical Access Hospitals</td>\n",
       "      <td>48267.0</td>\n",
       "      <td>...</td>\n",
       "      <td>7</td>\n",
       "      <td>NaN</td>\n",
       "      <td>NaN</td>\n",
       "      <td>NaN</td>\n",
       "      <td>NaN</td>\n",
       "      <td>NaN</td>\n",
       "      <td>NaN</td>\n",
       "      <td>False</td>\n",
       "      <td>23</td>\n",
       "      <td>TX202123</td>\n",
       "    </tr>\n",
       "    <tr>\n",
       "      <th>178166</th>\n",
       "      <td>453312</td>\n",
       "      <td>2021-06-11</td>\n",
       "      <td>TX</td>\n",
       "      <td>453312</td>\n",
       "      <td>SHRINERS HOSPITALS FOR CHILDREN</td>\n",
       "      <td>6977 MAIN STREET</td>\n",
       "      <td>HOUSTON</td>\n",
       "      <td>77030.0</td>\n",
       "      <td>Childrens Hospitals</td>\n",
       "      <td>48201.0</td>\n",
       "      <td>...</td>\n",
       "      <td>7</td>\n",
       "      <td>NaN</td>\n",
       "      <td>NaN</td>\n",
       "      <td>NaN</td>\n",
       "      <td>NaN</td>\n",
       "      <td>NaN</td>\n",
       "      <td>NaN</td>\n",
       "      <td>False</td>\n",
       "      <td>23</td>\n",
       "      <td>TX202123</td>\n",
       "    </tr>\n",
       "    <tr>\n",
       "      <th>178213</th>\n",
       "      <td>670077</td>\n",
       "      <td>2021-06-11</td>\n",
       "      <td>TX</td>\n",
       "      <td>670077</td>\n",
       "      <td>HOUSTON METHODIST WEST HOSPITAL</td>\n",
       "      <td>18500 KATY FREEWAY</td>\n",
       "      <td>HOUSTON</td>\n",
       "      <td>77094.0</td>\n",
       "      <td>Short Term</td>\n",
       "      <td>48201.0</td>\n",
       "      <td>...</td>\n",
       "      <td>7</td>\n",
       "      <td>NaN</td>\n",
       "      <td>NaN</td>\n",
       "      <td>NaN</td>\n",
       "      <td>NaN</td>\n",
       "      <td>NaN</td>\n",
       "      <td>NaN</td>\n",
       "      <td>False</td>\n",
       "      <td>23</td>\n",
       "      <td>TX202123</td>\n",
       "    </tr>\n",
       "    <tr>\n",
       "      <th>178247</th>\n",
       "      <td>450862</td>\n",
       "      <td>2021-06-11</td>\n",
       "      <td>TX</td>\n",
       "      <td>450862</td>\n",
       "      <td>ST LUKE'S THE WOODLANDS HOSPITAL</td>\n",
       "      <td>17200 ST LUKE'S WAY</td>\n",
       "      <td>THE WOODLANDS</td>\n",
       "      <td>77384.0</td>\n",
       "      <td>Short Term</td>\n",
       "      <td>48339.0</td>\n",
       "      <td>...</td>\n",
       "      <td>7</td>\n",
       "      <td>NaN</td>\n",
       "      <td>NaN</td>\n",
       "      <td>NaN</td>\n",
       "      <td>NaN</td>\n",
       "      <td>NaN</td>\n",
       "      <td>NaN</td>\n",
       "      <td>False</td>\n",
       "      <td>23</td>\n",
       "      <td>TX202123</td>\n",
       "    </tr>\n",
       "    <tr>\n",
       "      <th>178279</th>\n",
       "      <td>450723</td>\n",
       "      <td>2021-06-11</td>\n",
       "      <td>TX</td>\n",
       "      <td>450723</td>\n",
       "      <td>METHODIST CHARLTON MEDICAL CENTER</td>\n",
       "      <td>3500 W WHEATLAND ROAD</td>\n",
       "      <td>DALLAS</td>\n",
       "      <td>75237.0</td>\n",
       "      <td>Short Term</td>\n",
       "      <td>48113.0</td>\n",
       "      <td>...</td>\n",
       "      <td>7</td>\n",
       "      <td>NaN</td>\n",
       "      <td>NaN</td>\n",
       "      <td>NaN</td>\n",
       "      <td>NaN</td>\n",
       "      <td>NaN</td>\n",
       "      <td>NaN</td>\n",
       "      <td>False</td>\n",
       "      <td>23</td>\n",
       "      <td>TX202123</td>\n",
       "    </tr>\n",
       "  </tbody>\n",
       "</table>\n",
       "<p>451 rows × 111 columns</p>\n",
       "</div>"
      ],
      "text/plain": [
       "       hospital_pk collection_week state     ccn  \\\n",
       "165366      450097      2021-06-11    TX  450097   \n",
       "165404      670134      2021-06-11    TX  670134   \n",
       "165410      450163      2021-06-11    TX  450163   \n",
       "165453      452083      2021-06-11    TX  452083   \n",
       "165464      450647      2021-06-11    TX  450647   \n",
       "...            ...             ...   ...     ...   \n",
       "178151      451306      2021-06-11    TX  451306   \n",
       "178166      453312      2021-06-11    TX  453312   \n",
       "178213      670077      2021-06-11    TX  670077   \n",
       "178247      450862      2021-06-11    TX  450862   \n",
       "178279      450723      2021-06-11    TX  450723   \n",
       "\n",
       "                               hospital_name                    address  \\\n",
       "165366      HCA HOUSTON HEALTHCARE SOUTHEAST           4000 SPENCER HWY   \n",
       "165404              ALTUS LUMBERTON HOSPITAL              220 BLANCO ST   \n",
       "165410       CHRISTUS SPOHN HOSPITAL KLEBERG  1311 GENERAL CAVAZOS BLVD   \n",
       "165453  MID-JEFFERSON EXTENDED CARE HOSPITAL               2600 HWY 365   \n",
       "165464                   MEDICAL CITY DALLAS           7777 FOREST LANE   \n",
       "...                                      ...                        ...   \n",
       "178151                       KIMBLE HOSPITAL              349 REID ROAD   \n",
       "178166       SHRINERS HOSPITALS FOR CHILDREN           6977 MAIN STREET   \n",
       "178213       HOUSTON METHODIST WEST HOSPITAL         18500 KATY FREEWAY   \n",
       "178247      ST LUKE'S THE WOODLANDS HOSPITAL        17200 ST LUKE'S WAY   \n",
       "178279     METHODIST CHARLTON MEDICAL CENTER      3500 W WHEATLAND ROAD   \n",
       "\n",
       "                 city      zip           hospital_subtype  fips_code  ...  \\\n",
       "165366       PASADENA  77504.0                 Short Term    48201.0  ...   \n",
       "165404      LUMBERTON  77657.0                 Short Term    48199.0  ...   \n",
       "165410     KINGSVILLE  78363.0                 Short Term    48273.0  ...   \n",
       "165453      NEDERLAND  77627.0                  Long Term    48245.0  ...   \n",
       "165464         DALLAS  75230.0                 Short Term    48113.0  ...   \n",
       "...               ...      ...                        ...        ...  ...   \n",
       "178151       JUNCTION  76849.0  Critical Access Hospitals    48267.0  ...   \n",
       "178166        HOUSTON  77030.0        Childrens Hospitals    48201.0  ...   \n",
       "178213        HOUSTON  77094.0                 Short Term    48201.0  ...   \n",
       "178247  THE WOODLANDS  77384.0                 Short Term    48339.0  ...   \n",
       "178279         DALLAS  75237.0                 Short Term    48113.0  ...   \n",
       "\n",
       "        previous_day_admission_pediatric_covid_suspected_7_day_coverage  \\\n",
       "165366                                                  7                 \n",
       "165404                                                  7                 \n",
       "165410                                                  7                 \n",
       "165453                                                  7                 \n",
       "165464                                                  7                 \n",
       "...                                                   ...                 \n",
       "178151                                                  7                 \n",
       "178166                                                  7                 \n",
       "178213                                                  7                 \n",
       "178247                                                  7                 \n",
       "178279                                                  7                 \n",
       "\n",
       "        previous_week_personnel_covid_vaccinated_doses_administered_7_day  \\\n",
       "165366                                                NaN                   \n",
       "165404                                                NaN                   \n",
       "165410                                                NaN                   \n",
       "165453                                                NaN                   \n",
       "165464                                                NaN                   \n",
       "...                                                   ...                   \n",
       "178151                                                NaN                   \n",
       "178166                                                NaN                   \n",
       "178213                                                NaN                   \n",
       "178247                                                NaN                   \n",
       "178279                                                NaN                   \n",
       "\n",
       "        total_personnel_covid_vaccinated_doses_none_7_day  \\\n",
       "165366                                                NaN   \n",
       "165404                                                NaN   \n",
       "165410                                                NaN   \n",
       "165453                                                NaN   \n",
       "165464                                                NaN   \n",
       "...                                                   ...   \n",
       "178151                                                NaN   \n",
       "178166                                                NaN   \n",
       "178213                                                NaN   \n",
       "178247                                                NaN   \n",
       "178279                                                NaN   \n",
       "\n",
       "        total_personnel_covid_vaccinated_doses_one_7_day  \\\n",
       "165366                                               NaN   \n",
       "165404                                               NaN   \n",
       "165410                                               NaN   \n",
       "165453                                               NaN   \n",
       "165464                                               NaN   \n",
       "...                                                  ...   \n",
       "178151                                               NaN   \n",
       "178166                                               NaN   \n",
       "178213                                               NaN   \n",
       "178247                                               NaN   \n",
       "178279                                               NaN   \n",
       "\n",
       "        total_personnel_covid_vaccinated_doses_all_7_day  \\\n",
       "165366                                               NaN   \n",
       "165404                                               NaN   \n",
       "165410                                               NaN   \n",
       "165453                                               NaN   \n",
       "165464                                               NaN   \n",
       "...                                                  ...   \n",
       "178151                                               NaN   \n",
       "178166                                               NaN   \n",
       "178213                                               NaN   \n",
       "178247                                               NaN   \n",
       "178279                                               NaN   \n",
       "\n",
       "        previous_week_patients_covid_vaccinated_doses_one_7_day  \\\n",
       "165366                                                NaN         \n",
       "165404                                                NaN         \n",
       "165410                                                NaN         \n",
       "165453                                                NaN         \n",
       "165464                                                NaN         \n",
       "...                                                   ...         \n",
       "178151                                                NaN         \n",
       "178166                                                NaN         \n",
       "178213                                                NaN         \n",
       "178247                                                NaN         \n",
       "178279                                                NaN         \n",
       "\n",
       "        previous_week_patients_covid_vaccinated_doses_all_7_day  is_corrected  \\\n",
       "165366                                                NaN               False   \n",
       "165404                                                NaN               False   \n",
       "165410                                                NaN               False   \n",
       "165453                                                NaN               False   \n",
       "165464                                                NaN               False   \n",
       "...                                                   ...                 ...   \n",
       "178151                                                NaN               False   \n",
       "178166                                                NaN               False   \n",
       "178213                                                NaN               False   \n",
       "178247                                                NaN               False   \n",
       "178279                                                NaN               False   \n",
       "\n",
       "        week       uid  \n",
       "165366    23  TX202123  \n",
       "165404    23  TX202123  \n",
       "165410    23  TX202123  \n",
       "165453    23  TX202123  \n",
       "165464    23  TX202123  \n",
       "...      ...       ...  \n",
       "178151    23  TX202123  \n",
       "178166    23  TX202123  \n",
       "178213    23  TX202123  \n",
       "178247    23  TX202123  \n",
       "178279    23  TX202123  \n",
       "\n",
       "[451 rows x 111 columns]"
      ]
     },
     "execution_count": 112,
     "metadata": {},
     "output_type": "execute_result"
    }
   ],
   "source": [
    "df_hospitals[df_hospitals[\"uid\"]=='TX202123']"
   ]
  },
  {
   "cell_type": "code",
   "execution_count": 129,
   "id": "2c0feb7b-b0b2-4259-a6a4-bb2f1778c137",
   "metadata": {},
   "outputs": [],
   "source": [
    "a=df_hospitals.isnull().sum().sort_values(ascending=False)"
   ]
  },
  {
   "cell_type": "code",
   "execution_count": 138,
   "id": "ad18e83d-29fc-408c-b2d6-73651dd67296",
   "metadata": {},
   "outputs": [
    {
     "data": {
      "text/plain": [
       "total_personnel_covid_vaccinated_doses_none_7_day                      227635\n",
       "total_personnel_covid_vaccinated_doses_one_7_day                       227325\n",
       "total_personnel_covid_vaccinated_doses_all_7_day                       226989\n",
       "previous_week_patients_covid_vaccinated_doses_one_7_day                226824\n",
       "previous_week_patients_covid_vaccinated_doses_all_7_day                226814\n",
       "previous_week_personnel_covid_vaccinated_doses_administered_7_day      226745\n",
       "total_patients_hospitalized_confirmed_influenza_and_covid_7_day_avg     87449\n",
       "total_patients_hospitalized_confirmed_influenza_and_covid_7_day_sum     87449\n",
       "icu_patients_confirmed_influenza_7_day_sum                              83426\n",
       "icu_patients_confirmed_influenza_7_day_avg                              83426\n",
       "previous_day_admission_influenza_confirmed_7_day_sum                    83420\n",
       "total_patients_hospitalized_confirmed_influenza_7_day_sum               83184\n",
       "total_patients_hospitalized_confirmed_influenza_7_day_avg               83184\n",
       "geocoded_hospital_address                                               29027\n",
       "previous_day_admission_adult_covid_suspected_18-19_7_day_sum            11490\n",
       "previous_day_admission_adult_covid_confirmed_18-19_7_day_sum            11279\n",
       "previous_day_admission_adult_covid_confirmed_20-29_7_day_sum            11048\n",
       "previous_day_admission_adult_covid_suspected_20-29_7_day_sum            10682\n",
       "previous_day_admission_adult_covid_confirmed_30-39_7_day_sum            10628\n",
       "previous_day_admission_adult_covid_suspected_30-39_7_day_sum            10561\n",
       "previous_day_admission_adult_covid_confirmed_40-49_7_day_sum            10418\n",
       "previous_day_admission_adult_covid_suspected_40-49_7_day_sum            10327\n",
       "previous_day_admission_adult_covid_confirmed_50-59_7_day_sum             9975\n",
       "previous_day_admission_adult_covid_suspected_50-59_7_day_sum             9939\n",
       "all_adult_hospital_beds_7_day_avg                                        9780\n",
       "all_adult_hospital_beds_7_day_sum                                        9780\n",
       "previous_day_admission_adult_covid_suspected_80+_7_day_sum               9771\n",
       "previous_day_admission_adult_covid_confirmed_80+_7_day_sum               9670\n",
       "previous_day_admission_adult_covid_suspected_70-79_7_day_sum             9528\n",
       "previous_day_admission_adult_covid_confirmed_60-69_7_day_sum             9460\n",
       "previous_day_admission_adult_covid_suspected_60-69_7_day_sum             9437\n",
       "previous_day_admission_adult_covid_confirmed_70-79_7_day_sum             9426\n",
       "previous_day_admission_adult_covid_suspected_unknown_7_day_sum           7865\n",
       "previous_day_admission_adult_covid_confirmed_unknown_7_day_sum           7443\n",
       "total_staffed_adult_icu_beds_7_day_sum                                   7014\n",
       "total_staffed_adult_icu_beds_7_day_avg                                   7014\n",
       "previous_day_admission_pediatric_covid_confirmed_7_day_sum               6357\n",
       "previous_day_admission_pediatric_covid_suspected_7_day_sum               6137\n",
       "previous_day_covid_ED_visits_7_day_sum                                   5885\n",
       "staffed_adult_icu_bed_occupancy_7_day_avg                                5780\n",
       "staffed_adult_icu_bed_occupancy_7_day_sum                                5780\n",
       "all_adult_hospital_inpatient_beds_7_day_sum                              5576\n",
       "all_adult_hospital_inpatient_beds_7_day_avg                              5576\n",
       "total_beds_7_day_avg                                                     4846\n",
       "total_beds_7_day_sum                                                     4846\n",
       "previous_day_total_ED_visits_7_day_sum                                   4467\n",
       "staffed_icu_adult_patients_confirmed_covid_7_day_sum                     4434\n",
       "staffed_icu_adult_patients_confirmed_covid_7_day_avg                     4434\n",
       "staffed_icu_adult_patients_confirmed_and_suspected_covid_7_day_sum       4243\n",
       "staffed_icu_adult_patients_confirmed_and_suspected_covid_7_day_avg       4243\n",
       "dtype: int64"
      ]
     },
     "execution_count": 138,
     "metadata": {},
     "output_type": "execute_result"
    }
   ],
   "source": [
    "a.(50)"
   ]
  },
  {
   "cell_type": "code",
   "execution_count": 142,
   "id": "bd849c0c-82bb-4fa0-a94b-69e7ad05cb8f",
   "metadata": {},
   "outputs": [],
   "source": [
    "df_hospitals=df_hospitals.dropna()"
   ]
  },
  {
   "cell_type": "code",
   "execution_count": 147,
   "id": "db4ee11c-6ea6-4bf8-b09a-214c573c56e5",
   "metadata": {},
   "outputs": [],
   "source": [
    "df_hs=pd.pivot_table(\n",
    "   df_hospitals,\n",
    "   index=['uid','state'],\n",
    "   aggfunc={'staffed_adult_icu_bed_occupancy_7_day_sum': np.sum, 'total_staffed_adult_icu_beds_7_day_sum': np.sum}\n",
    ").rename(columns={'ICU_Occupied': 'Total_beds'})"
   ]
  },
  {
   "cell_type": "code",
   "execution_count": 148,
   "id": "6a2709d1-073d-4452-be90-70221c7f54e5",
   "metadata": {},
   "outputs": [],
   "source": [
    "# Get names of indexes for which column Age has value 30\n",
    "indexNames = df_hs[ df_hs['staffed_adult_icu_bed_occupancy_7_day_sum'] < 0 ].index\n",
    "# Delete these row indexes from dataFrame\n",
    "df_hospitals.drop(indexNames , inplace=True)"
   ]
  },
  {
   "cell_type": "code",
   "execution_count": 149,
   "id": "6232ecc7-ccb8-49c4-b09f-2903dd33fd49",
   "metadata": {},
   "outputs": [
    {
     "data": {
      "text/html": [
       "<div>\n",
       "<style scoped>\n",
       "    .dataframe tbody tr th:only-of-type {\n",
       "        vertical-align: middle;\n",
       "    }\n",
       "\n",
       "    .dataframe tbody tr th {\n",
       "        vertical-align: top;\n",
       "    }\n",
       "\n",
       "    .dataframe thead th {\n",
       "        text-align: right;\n",
       "    }\n",
       "</style>\n",
       "<table border=\"1\" class=\"dataframe\">\n",
       "  <thead>\n",
       "    <tr style=\"text-align: right;\">\n",
       "      <th></th>\n",
       "      <th></th>\n",
       "      <th>staffed_adult_icu_bed_occupancy_7_day_sum</th>\n",
       "      <th>total_staffed_adult_icu_beds_7_day_sum</th>\n",
       "    </tr>\n",
       "    <tr>\n",
       "      <th>uid</th>\n",
       "      <th>state</th>\n",
       "      <th></th>\n",
       "      <th></th>\n",
       "    </tr>\n",
       "  </thead>\n",
       "  <tbody>\n",
       "    <tr>\n",
       "      <th>AK202101</th>\n",
       "      <th>AK</th>\n",
       "      <td>24.0</td>\n",
       "      <td>63.0</td>\n",
       "    </tr>\n",
       "    <tr>\n",
       "      <th>AK202102</th>\n",
       "      <th>AK</th>\n",
       "      <td>79.0</td>\n",
       "      <td>161.0</td>\n",
       "    </tr>\n",
       "    <tr>\n",
       "      <th>AK202103</th>\n",
       "      <th>AK</th>\n",
       "      <td>74.0</td>\n",
       "      <td>161.0</td>\n",
       "    </tr>\n",
       "    <tr>\n",
       "      <th>AK202104</th>\n",
       "      <th>AK</th>\n",
       "      <td>29.0</td>\n",
       "      <td>77.0</td>\n",
       "    </tr>\n",
       "    <tr>\n",
       "      <th>AK202105</th>\n",
       "      <th>AK</th>\n",
       "      <td>100.0</td>\n",
       "      <td>175.0</td>\n",
       "    </tr>\n",
       "    <tr>\n",
       "      <th>...</th>\n",
       "      <th>...</th>\n",
       "      <td>...</td>\n",
       "      <td>...</td>\n",
       "    </tr>\n",
       "    <tr>\n",
       "      <th>WY202152</th>\n",
       "      <th>WY</th>\n",
       "      <td>427.0</td>\n",
       "      <td>862.0</td>\n",
       "    </tr>\n",
       "    <tr>\n",
       "      <th>WY202201</th>\n",
       "      <th>WY</th>\n",
       "      <td>325.0</td>\n",
       "      <td>836.0</td>\n",
       "    </tr>\n",
       "    <tr>\n",
       "      <th>WY202202</th>\n",
       "      <th>WY</th>\n",
       "      <td>332.0</td>\n",
       "      <td>813.0</td>\n",
       "    </tr>\n",
       "    <tr>\n",
       "      <th>WY202203</th>\n",
       "      <th>WY</th>\n",
       "      <td>0.0</td>\n",
       "      <td>0.0</td>\n",
       "    </tr>\n",
       "    <tr>\n",
       "      <th>WY202204</th>\n",
       "      <th>WY</th>\n",
       "      <td>6.0</td>\n",
       "      <td>39.0</td>\n",
       "    </tr>\n",
       "  </tbody>\n",
       "</table>\n",
       "<p>2821 rows × 2 columns</p>\n",
       "</div>"
      ],
      "text/plain": [
       "                staffed_adult_icu_bed_occupancy_7_day_sum  \\\n",
       "uid      state                                              \n",
       "AK202101 AK                                          24.0   \n",
       "AK202102 AK                                          79.0   \n",
       "AK202103 AK                                          74.0   \n",
       "AK202104 AK                                          29.0   \n",
       "AK202105 AK                                         100.0   \n",
       "...                                                   ...   \n",
       "WY202152 WY                                         427.0   \n",
       "WY202201 WY                                         325.0   \n",
       "WY202202 WY                                         332.0   \n",
       "WY202203 WY                                           0.0   \n",
       "WY202204 WY                                           6.0   \n",
       "\n",
       "                total_staffed_adult_icu_beds_7_day_sum  \n",
       "uid      state                                          \n",
       "AK202101 AK                                       63.0  \n",
       "AK202102 AK                                      161.0  \n",
       "AK202103 AK                                      161.0  \n",
       "AK202104 AK                                       77.0  \n",
       "AK202105 AK                                      175.0  \n",
       "...                                                ...  \n",
       "WY202152 WY                                      862.0  \n",
       "WY202201 WY                                      836.0  \n",
       "WY202202 WY                                      813.0  \n",
       "WY202203 WY                                        0.0  \n",
       "WY202204 WY                                       39.0  \n",
       "\n",
       "[2821 rows x 2 columns]"
      ]
     },
     "execution_count": 149,
     "metadata": {},
     "output_type": "execute_result"
    }
   ],
   "source": [
    "df_hs"
   ]
  },
  {
   "cell_type": "markdown",
   "id": "f9794fb6-b90c-491f-ab25-0a894f845694",
   "metadata": {},
   "source": [
    "#### Rates of COVID-19 Cases or Deaths by Age Group and Vaccination Status by Centers for Disease Control and Prevention \n",
    "Source: https://data.cdc.gov/Public-Health-Surveillance/Rates-of-COVID-19-Cases-or-Deaths-by-Age-Group-and/3rge-nu2a"
   ]
  },
  {
   "cell_type": "code",
   "execution_count": 49,
   "id": "2ea3a4be-d038-4d81-ac99-d5aea3d7ddc6",
   "metadata": {
    "tags": []
   },
   "outputs": [],
   "source": [
    "df_vacstat= pd.read_csv(\"vstats.csv\")"
   ]
  },
  {
   "cell_type": "code",
   "execution_count": 50,
   "id": "d1706889-f5a3-49f6-98c5-1b3d9daad2c9",
   "metadata": {},
   "outputs": [
    {
     "data": {
      "text/plain": [
       "(730, 16)"
      ]
     },
     "execution_count": 50,
     "metadata": {},
     "output_type": "execute_result"
    }
   ],
   "source": [
    "df_vacstat.shape"
   ]
  },
  {
   "cell_type": "code",
   "execution_count": 51,
   "id": "acde81c9-86fd-4126-b410-40ce4519da3e",
   "metadata": {},
   "outputs": [
    {
     "data": {
      "text/html": [
       "<div>\n",
       "<style scoped>\n",
       "    .dataframe tbody tr th:only-of-type {\n",
       "        vertical-align: middle;\n",
       "    }\n",
       "\n",
       "    .dataframe tbody tr th {\n",
       "        vertical-align: top;\n",
       "    }\n",
       "\n",
       "    .dataframe thead th {\n",
       "        text-align: right;\n",
       "    }\n",
       "</style>\n",
       "<table border=\"1\" class=\"dataframe\">\n",
       "  <thead>\n",
       "    <tr style=\"text-align: right;\">\n",
       "      <th></th>\n",
       "      <th>outcome</th>\n",
       "      <th>month</th>\n",
       "      <th>MMWR week</th>\n",
       "      <th>Age group</th>\n",
       "      <th>Vaccine product</th>\n",
       "      <th>Vaccinated with outcome</th>\n",
       "      <th>Fully vaccinated population</th>\n",
       "      <th>Unvaccinated with outcome</th>\n",
       "      <th>Unvaccinated population</th>\n",
       "      <th>Crude vax IR</th>\n",
       "      <th>Crude unvax IR</th>\n",
       "      <th>Crude IRR</th>\n",
       "      <th>Age adjusted vax IR</th>\n",
       "      <th>Age adjusted unvax IR</th>\n",
       "      <th>Age adjusted IRR</th>\n",
       "      <th>Continuity correction</th>\n",
       "    </tr>\n",
       "  </thead>\n",
       "  <tbody>\n",
       "    <tr>\n",
       "      <th>0</th>\n",
       "      <td>case</td>\n",
       "      <td>04 - APR</td>\n",
       "      <td>202114</td>\n",
       "      <td>12-17</td>\n",
       "      <td>all_types</td>\n",
       "      <td>7</td>\n",
       "      <td>38220</td>\n",
       "      <td>29459</td>\n",
       "      <td>16946683.0</td>\n",
       "      <td>18.315018</td>\n",
       "      <td>173.833428</td>\n",
       "      <td>9.491305</td>\n",
       "      <td>NaN</td>\n",
       "      <td>NaN</td>\n",
       "      <td>NaN</td>\n",
       "      <td>0</td>\n",
       "    </tr>\n",
       "    <tr>\n",
       "      <th>1</th>\n",
       "      <td>case</td>\n",
       "      <td>04 - APR</td>\n",
       "      <td>202115</td>\n",
       "      <td>12-17</td>\n",
       "      <td>all_types</td>\n",
       "      <td>4</td>\n",
       "      <td>56121</td>\n",
       "      <td>29153</td>\n",
       "      <td>16671338.0</td>\n",
       "      <td>7.127457</td>\n",
       "      <td>174.868988</td>\n",
       "      <td>24.534556</td>\n",
       "      <td>NaN</td>\n",
       "      <td>NaN</td>\n",
       "      <td>NaN</td>\n",
       "      <td>0</td>\n",
       "    </tr>\n",
       "    <tr>\n",
       "      <th>2</th>\n",
       "      <td>case</td>\n",
       "      <td>04 - APR</td>\n",
       "      <td>202116</td>\n",
       "      <td>12-17</td>\n",
       "      <td>all_types</td>\n",
       "      <td>6</td>\n",
       "      <td>87173</td>\n",
       "      <td>25160</td>\n",
       "      <td>16388829.0</td>\n",
       "      <td>6.882865</td>\n",
       "      <td>153.519205</td>\n",
       "      <td>22.304549</td>\n",
       "      <td>NaN</td>\n",
       "      <td>NaN</td>\n",
       "      <td>NaN</td>\n",
       "      <td>0</td>\n",
       "    </tr>\n",
       "    <tr>\n",
       "      <th>3</th>\n",
       "      <td>case</td>\n",
       "      <td>04 - APR</td>\n",
       "      <td>202117</td>\n",
       "      <td>12-17</td>\n",
       "      <td>all_types</td>\n",
       "      <td>21</td>\n",
       "      <td>140242</td>\n",
       "      <td>23465</td>\n",
       "      <td>16135529.0</td>\n",
       "      <td>14.974116</td>\n",
       "      <td>145.424423</td>\n",
       "      <td>9.711720</td>\n",
       "      <td>NaN</td>\n",
       "      <td>NaN</td>\n",
       "      <td>NaN</td>\n",
       "      <td>0</td>\n",
       "    </tr>\n",
       "    <tr>\n",
       "      <th>4</th>\n",
       "      <td>case</td>\n",
       "      <td>05 - MAY</td>\n",
       "      <td>202118</td>\n",
       "      <td>12-17</td>\n",
       "      <td>all_types</td>\n",
       "      <td>12</td>\n",
       "      <td>237327</td>\n",
       "      <td>18697</td>\n",
       "      <td>15963947.0</td>\n",
       "      <td>5.056315</td>\n",
       "      <td>117.120158</td>\n",
       "      <td>23.163147</td>\n",
       "      <td>NaN</td>\n",
       "      <td>NaN</td>\n",
       "      <td>NaN</td>\n",
       "      <td>0</td>\n",
       "    </tr>\n",
       "  </tbody>\n",
       "</table>\n",
       "</div>"
      ],
      "text/plain": [
       "  outcome     month  MMWR week Age group Vaccine product  \\\n",
       "0    case  04 - APR     202114     12-17       all_types   \n",
       "1    case  04 - APR     202115     12-17       all_types   \n",
       "2    case  04 - APR     202116     12-17       all_types   \n",
       "3    case  04 - APR     202117     12-17       all_types   \n",
       "4    case  05 - MAY     202118     12-17       all_types   \n",
       "\n",
       "   Vaccinated with outcome  Fully vaccinated population  \\\n",
       "0                        7                        38220   \n",
       "1                        4                        56121   \n",
       "2                        6                        87173   \n",
       "3                       21                       140242   \n",
       "4                       12                       237327   \n",
       "\n",
       "   Unvaccinated with outcome  Unvaccinated population  Crude vax IR  \\\n",
       "0                      29459               16946683.0     18.315018   \n",
       "1                      29153               16671338.0      7.127457   \n",
       "2                      25160               16388829.0      6.882865   \n",
       "3                      23465               16135529.0     14.974116   \n",
       "4                      18697               15963947.0      5.056315   \n",
       "\n",
       "   Crude unvax IR  Crude IRR  Age adjusted vax IR  Age adjusted unvax IR  \\\n",
       "0      173.833428   9.491305                  NaN                    NaN   \n",
       "1      174.868988  24.534556                  NaN                    NaN   \n",
       "2      153.519205  22.304549                  NaN                    NaN   \n",
       "3      145.424423   9.711720                  NaN                    NaN   \n",
       "4      117.120158  23.163147                  NaN                    NaN   \n",
       "\n",
       "   Age adjusted IRR  Continuity correction  \n",
       "0               NaN                      0  \n",
       "1               NaN                      0  \n",
       "2               NaN                      0  \n",
       "3               NaN                      0  \n",
       "4               NaN                      0  "
      ]
     },
     "execution_count": 51,
     "metadata": {},
     "output_type": "execute_result"
    }
   ],
   "source": [
    "df_vacstat.head()"
   ]
  },
  {
   "cell_type": "code",
   "execution_count": 52,
   "id": "54e36e66-e2a8-4f42-9a98-8986a784aa86",
   "metadata": {},
   "outputs": [
    {
     "data": {
      "text/plain": [
       "Index(['outcome', 'month', 'MMWR week', 'Age group', 'Vaccine product',\n",
       "       'Vaccinated with outcome', 'Fully vaccinated population',\n",
       "       'Unvaccinated with outcome', 'Unvaccinated population', 'Crude vax IR',\n",
       "       'Crude unvax IR', 'Crude IRR', 'Age adjusted vax IR',\n",
       "       'Age adjusted unvax IR', 'Age adjusted IRR', 'Continuity correction'],\n",
       "      dtype='object')"
      ]
     },
     "execution_count": 52,
     "metadata": {},
     "output_type": "execute_result"
    }
   ],
   "source": [
    "df_vacstat.columns"
   ]
  },
  {
   "cell_type": "code",
   "execution_count": 53,
   "id": "9bc0493d-bcd9-4c07-8f2a-b167e0b25e2b",
   "metadata": {},
   "outputs": [
    {
     "data": {
      "text/plain": [
       "array(['12-17', '18-29', '30-49', '50-64', '65-79', '80+', 'all_ages_adj'],\n",
       "      dtype=object)"
      ]
     },
     "execution_count": 53,
     "metadata": {},
     "output_type": "execute_result"
    }
   ],
   "source": [
    "df_vacstat[\"Age group\"].unique()"
   ]
  },
  {
   "cell_type": "code",
   "execution_count": 54,
   "id": "c6117c58-0ce1-432b-a869-927985432ded",
   "metadata": {},
   "outputs": [
    {
     "data": {
      "text/plain": [
       "array(['all_types', 'Janssen', 'Moderna', 'Pfizer'], dtype=object)"
      ]
     },
     "execution_count": 54,
     "metadata": {},
     "output_type": "execute_result"
    }
   ],
   "source": [
    "df_vacstat[\"Vaccine product\"].unique()"
   ]
  },
  {
   "cell_type": "code",
   "execution_count": 56,
   "id": "21791794-d8ee-4796-ab5d-667bbc5ac54c",
   "metadata": {},
   "outputs": [
    {
     "data": {
      "text/plain": [
       "array(['case', 'death'], dtype=object)"
      ]
     },
     "execution_count": 56,
     "metadata": {},
     "output_type": "execute_result"
    }
   ],
   "source": [
    "df_vacstat[\"outcome\"].unique()"
   ]
  },
  {
   "cell_type": "markdown",
   "id": "855898ff-9b71-411b-b971-89e29c979553",
   "metadata": {},
   "source": [
    "## Merging data"
   ]
  },
  {
   "cell_type": "code",
   "execution_count": 103,
   "id": "7701faeb-f0bd-4169-aedf-0af55d86946d",
   "metadata": {},
   "outputs": [],
   "source": [
    "#df_master=df_vaccine.merge(df_cases, on='uid',how='inner')\n",
    "df_master=pd.merge(df_vaccine,df_cases,left_on='uid',right_on='uid')"
   ]
  },
  {
   "cell_type": "code",
   "execution_count": 150,
   "id": "36a970ef-6541-4468-a368-bf11f0bb48bd",
   "metadata": {},
   "outputs": [],
   "source": [
    "df_master=pd.merge(df_master,df_hs,left_on='uid',right_on='uid')"
   ]
  },
  {
   "cell_type": "code",
   "execution_count": 151,
   "id": "816590de-f673-46fb-a6bc-1548f89eb26f",
   "metadata": {},
   "outputs": [
    {
     "data": {
      "text/html": [
       "<div>\n",
       "<style scoped>\n",
       "    .dataframe tbody tr th:only-of-type {\n",
       "        vertical-align: middle;\n",
       "    }\n",
       "\n",
       "    .dataframe tbody tr th {\n",
       "        vertical-align: top;\n",
       "    }\n",
       "\n",
       "    .dataframe thead th {\n",
       "        text-align: right;\n",
       "    }\n",
       "</style>\n",
       "<table border=\"1\" class=\"dataframe\">\n",
       "  <thead>\n",
       "    <tr style=\"text-align: right;\">\n",
       "      <th></th>\n",
       "      <th>Date</th>\n",
       "      <th>MMWR_week</th>\n",
       "      <th>Location</th>\n",
       "      <th>Distributed</th>\n",
       "      <th>Distributed_Janssen</th>\n",
       "      <th>Distributed_Moderna</th>\n",
       "      <th>Distributed_Pfizer</th>\n",
       "      <th>Distributed_Unk_Manuf</th>\n",
       "      <th>Dist_Per_100K</th>\n",
       "      <th>Distributed_Per_100k_12Plus</th>\n",
       "      <th>...</th>\n",
       "      <th>conf_death</th>\n",
       "      <th>prob_death</th>\n",
       "      <th>new_death</th>\n",
       "      <th>pnew_death</th>\n",
       "      <th>created_at</th>\n",
       "      <th>consent_cases</th>\n",
       "      <th>consent_deaths</th>\n",
       "      <th>week_y</th>\n",
       "      <th>staffed_adult_icu_bed_occupancy_7_day_sum</th>\n",
       "      <th>total_staffed_adult_icu_beds_7_day_sum</th>\n",
       "    </tr>\n",
       "  </thead>\n",
       "  <tbody>\n",
       "    <tr>\n",
       "      <th>0</th>\n",
       "      <td>2022-01-30</td>\n",
       "      <td>5</td>\n",
       "      <td>VA</td>\n",
       "      <td>18169385</td>\n",
       "      <td>768100</td>\n",
       "      <td>6301200</td>\n",
       "      <td>11100085</td>\n",
       "      <td>0</td>\n",
       "      <td>212868</td>\n",
       "      <td>248658</td>\n",
       "      <td>...</td>\n",
       "      <td>13497.0</td>\n",
       "      <td>2671.0</td>\n",
       "      <td>0</td>\n",
       "      <td>0.0</td>\n",
       "      <td>01/31/2022 04:55:36 PM</td>\n",
       "      <td>Agree</td>\n",
       "      <td>Agree</td>\n",
       "      <td>04</td>\n",
       "      <td>5404.0</td>\n",
       "      <td>7564.0</td>\n",
       "    </tr>\n",
       "    <tr>\n",
       "      <th>1</th>\n",
       "      <td>2022-01-30</td>\n",
       "      <td>5</td>\n",
       "      <td>SD</td>\n",
       "      <td>1708245</td>\n",
       "      <td>87800</td>\n",
       "      <td>678780</td>\n",
       "      <td>941665</td>\n",
       "      <td>0</td>\n",
       "      <td>193096</td>\n",
       "      <td>231438</td>\n",
       "      <td>...</td>\n",
       "      <td>2259.0</td>\n",
       "      <td>378.0</td>\n",
       "      <td>0</td>\n",
       "      <td>0.0</td>\n",
       "      <td>01/31/2022 04:55:36 PM</td>\n",
       "      <td>NaN</td>\n",
       "      <td>Agree</td>\n",
       "      <td>04</td>\n",
       "      <td>0.0</td>\n",
       "      <td>0.0</td>\n",
       "    </tr>\n",
       "    <tr>\n",
       "      <th>2</th>\n",
       "      <td>2022-01-30</td>\n",
       "      <td>5</td>\n",
       "      <td>NC</td>\n",
       "      <td>20149700</td>\n",
       "      <td>909300</td>\n",
       "      <td>7464360</td>\n",
       "      <td>11776040</td>\n",
       "      <td>0</td>\n",
       "      <td>192120</td>\n",
       "      <td>224246</td>\n",
       "      <td>...</td>\n",
       "      <td>18537.0</td>\n",
       "      <td>2595.0</td>\n",
       "      <td>50</td>\n",
       "      <td>8.0</td>\n",
       "      <td>01/30/2022 12:00:00 AM</td>\n",
       "      <td>Agree</td>\n",
       "      <td>Agree</td>\n",
       "      <td>04</td>\n",
       "      <td>255.0</td>\n",
       "      <td>315.0</td>\n",
       "    </tr>\n",
       "    <tr>\n",
       "      <th>3</th>\n",
       "      <td>2022-01-30</td>\n",
       "      <td>5</td>\n",
       "      <td>OR</td>\n",
       "      <td>9268845</td>\n",
       "      <td>457600</td>\n",
       "      <td>3455120</td>\n",
       "      <td>5356125</td>\n",
       "      <td>0</td>\n",
       "      <td>219759</td>\n",
       "      <td>254096</td>\n",
       "      <td>...</td>\n",
       "      <td>6086.0</td>\n",
       "      <td>0.0</td>\n",
       "      <td>0</td>\n",
       "      <td>0.0</td>\n",
       "      <td>01/31/2022 04:55:36 PM</td>\n",
       "      <td>Agree</td>\n",
       "      <td>Agree</td>\n",
       "      <td>04</td>\n",
       "      <td>727.0</td>\n",
       "      <td>938.0</td>\n",
       "    </tr>\n",
       "    <tr>\n",
       "      <th>4</th>\n",
       "      <td>2022-01-30</td>\n",
       "      <td>5</td>\n",
       "      <td>CA</td>\n",
       "      <td>82897655</td>\n",
       "      <td>3649600</td>\n",
       "      <td>29435020</td>\n",
       "      <td>49813035</td>\n",
       "      <td>0</td>\n",
       "      <td>209803</td>\n",
       "      <td>246380</td>\n",
       "      <td>...</td>\n",
       "      <td>NaN</td>\n",
       "      <td>NaN</td>\n",
       "      <td>0</td>\n",
       "      <td>0.0</td>\n",
       "      <td>01/31/2022 04:55:36 PM</td>\n",
       "      <td>Agree</td>\n",
       "      <td>Not agree</td>\n",
       "      <td>04</td>\n",
       "      <td>26091.0</td>\n",
       "      <td>31523.0</td>\n",
       "    </tr>\n",
       "  </tbody>\n",
       "</table>\n",
       "<p>5 rows × 102 columns</p>\n",
       "</div>"
      ],
      "text/plain": [
       "        Date  MMWR_week Location  Distributed  Distributed_Janssen  \\\n",
       "0 2022-01-30          5       VA     18169385               768100   \n",
       "1 2022-01-30          5       SD      1708245                87800   \n",
       "2 2022-01-30          5       NC     20149700               909300   \n",
       "3 2022-01-30          5       OR      9268845               457600   \n",
       "4 2022-01-30          5       CA     82897655              3649600   \n",
       "\n",
       "   Distributed_Moderna  Distributed_Pfizer  Distributed_Unk_Manuf  \\\n",
       "0              6301200            11100085                      0   \n",
       "1               678780              941665                      0   \n",
       "2              7464360            11776040                      0   \n",
       "3              3455120             5356125                      0   \n",
       "4             29435020            49813035                      0   \n",
       "\n",
       "   Dist_Per_100K  Distributed_Per_100k_12Plus  ...  conf_death  prob_death  \\\n",
       "0         212868                       248658  ...     13497.0      2671.0   \n",
       "1         193096                       231438  ...      2259.0       378.0   \n",
       "2         192120                       224246  ...     18537.0      2595.0   \n",
       "3         219759                       254096  ...      6086.0         0.0   \n",
       "4         209803                       246380  ...         NaN         NaN   \n",
       "\n",
       "   new_death  pnew_death              created_at  consent_cases  \\\n",
       "0          0         0.0  01/31/2022 04:55:36 PM          Agree   \n",
       "1          0         0.0  01/31/2022 04:55:36 PM            NaN   \n",
       "2         50         8.0  01/30/2022 12:00:00 AM          Agree   \n",
       "3          0         0.0  01/31/2022 04:55:36 PM          Agree   \n",
       "4          0         0.0  01/31/2022 04:55:36 PM          Agree   \n",
       "\n",
       "   consent_deaths  week_y  staffed_adult_icu_bed_occupancy_7_day_sum  \\\n",
       "0           Agree      04                                     5404.0   \n",
       "1           Agree      04                                        0.0   \n",
       "2           Agree      04                                      255.0   \n",
       "3           Agree      04                                      727.0   \n",
       "4       Not agree      04                                    26091.0   \n",
       "\n",
       "   total_staffed_adult_icu_beds_7_day_sum  \n",
       "0                                  7564.0  \n",
       "1                                     0.0  \n",
       "2                                   315.0  \n",
       "3                                   938.0  \n",
       "4                                 31523.0  \n",
       "\n",
       "[5 rows x 102 columns]"
      ]
     },
     "execution_count": 151,
     "metadata": {},
     "output_type": "execute_result"
    }
   ],
   "source": [
    "df_master.head()"
   ]
  },
  {
   "cell_type": "code",
   "execution_count": 152,
   "id": "16662b1f-57a5-4b5c-9d02-87bc15a20e0b",
   "metadata": {},
   "outputs": [
    {
     "data": {
      "text/plain": [
       "Index(['Date', 'MMWR_week', 'Location', 'Distributed', 'Distributed_Janssen',\n",
       "       'Distributed_Moderna', 'Distributed_Pfizer', 'Distributed_Unk_Manuf',\n",
       "       'Dist_Per_100K', 'Distributed_Per_100k_12Plus',\n",
       "       ...\n",
       "       'conf_death', 'prob_death', 'new_death', 'pnew_death', 'created_at',\n",
       "       'consent_cases', 'consent_deaths', 'week_y',\n",
       "       'staffed_adult_icu_bed_occupancy_7_day_sum',\n",
       "       'total_staffed_adult_icu_beds_7_day_sum'],\n",
       "      dtype='object', length=102)"
      ]
     },
     "execution_count": 152,
     "metadata": {},
     "output_type": "execute_result"
    }
   ],
   "source": [
    "df_master.columns"
   ]
  },
  {
   "cell_type": "code",
   "execution_count": 153,
   "id": "876cd332-d4a5-4b15-a6f3-a7a4ffeb8471",
   "metadata": {},
   "outputs": [
    {
     "data": {
      "text/plain": [
       "(2821, 102)"
      ]
     },
     "execution_count": 153,
     "metadata": {},
     "output_type": "execute_result"
    }
   ],
   "source": [
    "df_master.shape"
   ]
  },
  {
   "cell_type": "code",
   "execution_count": 154,
   "id": "d4627b5b-990b-44b3-ac8d-2eca2b55a19f",
   "metadata": {},
   "outputs": [
    {
     "data": {
      "text/plain": [
       "(6600, 17)"
      ]
     },
     "execution_count": 154,
     "metadata": {},
     "output_type": "execute_result"
    }
   ],
   "source": [
    "df_cases.shape"
   ]
  },
  {
   "cell_type": "code",
   "execution_count": 155,
   "id": "ddc0453a-cbe4-47e3-9694-5fa347ee3f5e",
   "metadata": {},
   "outputs": [
    {
     "data": {
      "text/plain": [
       "(4081, 84)"
      ]
     },
     "execution_count": 155,
     "metadata": {},
     "output_type": "execute_result"
    }
   ],
   "source": [
    "df_vaccine.shape"
   ]
  },
  {
   "cell_type": "code",
   "execution_count": 156,
   "id": "93c63778-bada-4fdf-a444-f78c06e9d020",
   "metadata": {},
   "outputs": [
    {
     "data": {
      "text/plain": [
       "(2821, 2)"
      ]
     },
     "execution_count": 156,
     "metadata": {},
     "output_type": "execute_result"
    }
   ],
   "source": [
    "df_hs.shape"
   ]
  },
  {
   "cell_type": "code",
   "execution_count": 109,
   "id": "e4ae7c90-19a0-4b56-953c-a30d6254eb04",
   "metadata": {},
   "outputs": [
    {
     "data": {
      "text/plain": [
       "Date                     0\n",
       "MMWR_week                0\n",
       "Location                 0\n",
       "Distributed              0\n",
       "Distributed_Janssen      0\n",
       "                      ... \n",
       "pnew_death               0\n",
       "created_at               0\n",
       "consent_cases          572\n",
       "consent_deaths         508\n",
       "week_y                   0\n",
       "Length: 100, dtype: int64"
      ]
     },
     "execution_count": 109,
     "metadata": {},
     "output_type": "execute_result"
    }
   ],
   "source": [
    "df_master.isnull().sum()"
   ]
  }
 ],
 "metadata": {
  "kernelspec": {
   "display_name": "Python_3_6",
   "language": "python",
   "name": "python_3_6"
  },
  "language_info": {
   "codemirror_mode": {
    "name": "ipython",
    "version": 3
   },
   "file_extension": ".py",
   "mimetype": "text/x-python",
   "name": "python",
   "nbconvert_exporter": "python",
   "pygments_lexer": "ipython3",
   "version": "3.8.12"
  }
 },
 "nbformat": 4,
 "nbformat_minor": 5
}
